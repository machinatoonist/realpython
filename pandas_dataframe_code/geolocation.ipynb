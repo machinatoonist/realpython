{
 "cells": [
  {
   "cell_type": "code",
   "execution_count": 1,
   "id": "0577bb10-481f-4af0-9b18-824d7d6e123c",
   "metadata": {},
   "outputs": [
    {
     "ename": "ImportError",
     "evalue": "cannot import name 'Nominatum' from 'geopy.geocoders' (/Users/mattrosinski/mambaforge/lib/python3.9/site-packages/geopy/geocoders/__init__.py)",
     "output_type": "error",
     "traceback": [
      "\u001b[0;31m---------------------------------------------------------------------------\u001b[0m",
      "\u001b[0;31mImportError\u001b[0m                               Traceback (most recent call last)",
      "Input \u001b[0;32mIn [1]\u001b[0m, in \u001b[0;36m<cell line: 1>\u001b[0;34m()\u001b[0m\n\u001b[0;32m----> 1\u001b[0m \u001b[38;5;28;01mfrom\u001b[39;00m \u001b[38;5;21;01mgeopy\u001b[39;00m\u001b[38;5;21;01m.\u001b[39;00m\u001b[38;5;21;01mgeocoders\u001b[39;00m \u001b[38;5;28;01mimport\u001b[39;00m Nominatum\n",
      "\u001b[0;31mImportError\u001b[0m: cannot import name 'Nominatum' from 'geopy.geocoders' (/Users/mattrosinski/mambaforge/lib/python3.9/site-packages/geopy/geocoders/__init__.py)"
     ]
    }
   ],
   "source": [
    "from geopy.geocoders import Nominatum"
   ]
  },
  {
   "cell_type": "code",
   "execution_count": 2,
   "id": "5523b8ed-df2c-47b9-9de5-725040534ce6",
   "metadata": {},
   "outputs": [
    {
     "name": "stdout",
     "output_type": "stream",
     "text": [
      "/Users/mattrosinski/mambaforge/bin/python\n"
     ]
    }
   ],
   "source": [
    "!which python"
   ]
  },
  {
   "cell_type": "code",
   "execution_count": 4,
   "id": "d600aa18-8f7d-43ba-ab66-6d538a0bb9db",
   "metadata": {},
   "outputs": [],
   "source": [
    "import geopy"
   ]
  },
  {
   "cell_type": "code",
   "execution_count": 17,
   "id": "473e27bd-d5b3-4b83-832f-05dd40d311f8",
   "metadata": {},
   "outputs": [],
   "source": [
    "# dir(geopy.geocoders)"
   ]
  },
  {
   "cell_type": "code",
   "execution_count": 14,
   "id": "a9c01f07-9012-4a27-82bd-dc88e8951def",
   "metadata": {},
   "outputs": [],
   "source": [
    "from geopy.geocoders import Nominatim\n",
    "geolocator = Nominatim(user_agent=\"get coordinates\")\n",
    "location = geolocator.geocode(\"3 Seaton Villa Rd, Manjimup, WA\")"
   ]
  },
  {
   "cell_type": "code",
   "execution_count": 15,
   "id": "18967666-7b7e-40cc-989f-80a67e9331b3",
   "metadata": {},
   "outputs": [
    {
     "data": {
      "text/plain": [
       "-34.2487808"
      ]
     },
     "execution_count": 15,
     "metadata": {},
     "output_type": "execute_result"
    }
   ],
   "source": [
    "location.latitude"
   ]
  },
  {
   "cell_type": "code",
   "execution_count": 16,
   "id": "954e4809-e035-44d9-9404-42282ffb7e99",
   "metadata": {},
   "outputs": [
    {
     "data": {
      "text/plain": [
       "116.1463718"
      ]
     },
     "execution_count": 16,
     "metadata": {},
     "output_type": "execute_result"
    }
   ],
   "source": [
    "location.longitude"
   ]
  },
  {
   "cell_type": "code",
   "execution_count": null,
   "id": "cae3c7eb-bda0-46e9-926a-36911b8a9030",
   "metadata": {},
   "outputs": [],
   "source": []
  }
 ],
 "metadata": {
  "kernelspec": {
   "display_name": "Python 3 (ipykernel)",
   "language": "python",
   "name": "python3"
  },
  "language_info": {
   "codemirror_mode": {
    "name": "ipython",
    "version": 3
   },
   "file_extension": ".py",
   "mimetype": "text/x-python",
   "name": "python",
   "nbconvert_exporter": "python",
   "pygments_lexer": "ipython3",
   "version": "3.9.10"
  }
 },
 "nbformat": 4,
 "nbformat_minor": 5
}
