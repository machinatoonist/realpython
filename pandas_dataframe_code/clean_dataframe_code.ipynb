{
 "cells": [
  {
   "cell_type": "code",
   "execution_count": 1,
   "id": "d69d4347-ca58-4b8c-b272-a04b69fffbec",
   "metadata": {},
   "outputs": [],
   "source": [
    "import pandas as pd"
   ]
  },
  {
   "cell_type": "code",
   "execution_count": 2,
   "id": "57d4b726-1f89-4448-a5ec-e11d7e270bc0",
   "metadata": {},
   "outputs": [],
   "source": [
    "data = {\n",
    "    'name': ['Xavier', 'Ann', 'Jana', 'Yi', 'Robin', 'Amal', 'Nori'],\n",
    "    'city': ['Mexico City', 'Toronto', 'Prague', 'Shanghai',\n",
    "             'Manchester', 'Cairo', 'Osaka'],\n",
    "    'age': [41, 28, 33, 34, 38, 31, 37],\n",
    "    'py-score': [88.0, 79.0, 81.0, 80.0, 68.0, 61.0, 84.0]\n",
    "}\n",
    "\n",
    "index = range(101,108)"
   ]
  },
  {
   "cell_type": "code",
   "execution_count": 3,
   "id": "bdece31e-cc0f-44ae-8cd5-6fe8245aee7f",
   "metadata": {},
   "outputs": [],
   "source": [
    "df = pd.DataFrame(data, index=index)"
   ]
  },
  {
   "cell_type": "code",
   "execution_count": 4,
   "id": "c94afbf4-468c-427c-879e-7967617206f3",
   "metadata": {},
   "outputs": [
    {
     "data": {
      "text/html": [
       "<div>\n",
       "<style scoped>\n",
       "    .dataframe tbody tr th:only-of-type {\n",
       "        vertical-align: middle;\n",
       "    }\n",
       "\n",
       "    .dataframe tbody tr th {\n",
       "        vertical-align: top;\n",
       "    }\n",
       "\n",
       "    .dataframe thead th {\n",
       "        text-align: right;\n",
       "    }\n",
       "</style>\n",
       "<table border=\"1\" class=\"dataframe\">\n",
       "  <thead>\n",
       "    <tr style=\"text-align: right;\">\n",
       "      <th></th>\n",
       "      <th>name</th>\n",
       "      <th>city</th>\n",
       "      <th>age</th>\n",
       "      <th>py-score</th>\n",
       "    </tr>\n",
       "  </thead>\n",
       "  <tbody>\n",
       "    <tr>\n",
       "      <th>101</th>\n",
       "      <td>Xavier</td>\n",
       "      <td>Mexico City</td>\n",
       "      <td>41</td>\n",
       "      <td>88.0</td>\n",
       "    </tr>\n",
       "    <tr>\n",
       "      <th>102</th>\n",
       "      <td>Ann</td>\n",
       "      <td>Toronto</td>\n",
       "      <td>28</td>\n",
       "      <td>79.0</td>\n",
       "    </tr>\n",
       "    <tr>\n",
       "      <th>103</th>\n",
       "      <td>Jana</td>\n",
       "      <td>Prague</td>\n",
       "      <td>33</td>\n",
       "      <td>81.0</td>\n",
       "    </tr>\n",
       "    <tr>\n",
       "      <th>104</th>\n",
       "      <td>Yi</td>\n",
       "      <td>Shanghai</td>\n",
       "      <td>34</td>\n",
       "      <td>80.0</td>\n",
       "    </tr>\n",
       "    <tr>\n",
       "      <th>105</th>\n",
       "      <td>Robin</td>\n",
       "      <td>Manchester</td>\n",
       "      <td>38</td>\n",
       "      <td>68.0</td>\n",
       "    </tr>\n",
       "  </tbody>\n",
       "</table>\n",
       "</div>"
      ],
      "text/plain": [
       "       name         city  age  py-score\n",
       "101  Xavier  Mexico City   41      88.0\n",
       "102     Ann      Toronto   28      79.0\n",
       "103    Jana       Prague   33      81.0\n",
       "104      Yi     Shanghai   34      80.0\n",
       "105   Robin   Manchester   38      68.0"
      ]
     },
     "execution_count": 4,
     "metadata": {},
     "output_type": "execute_result"
    }
   ],
   "source": [
    "df.head()"
   ]
  },
  {
   "cell_type": "code",
   "execution_count": 5,
   "id": "05ab4f65-1d06-457e-b88d-178d4eb49af5",
   "metadata": {},
   "outputs": [
    {
     "data": {
      "text/html": [
       "<div>\n",
       "<style scoped>\n",
       "    .dataframe tbody tr th:only-of-type {\n",
       "        vertical-align: middle;\n",
       "    }\n",
       "\n",
       "    .dataframe tbody tr th {\n",
       "        vertical-align: top;\n",
       "    }\n",
       "\n",
       "    .dataframe thead th {\n",
       "        text-align: right;\n",
       "    }\n",
       "</style>\n",
       "<table border=\"1\" class=\"dataframe\">\n",
       "  <thead>\n",
       "    <tr style=\"text-align: right;\">\n",
       "      <th></th>\n",
       "      <th>name</th>\n",
       "      <th>city</th>\n",
       "      <th>age</th>\n",
       "      <th>py-score</th>\n",
       "    </tr>\n",
       "  </thead>\n",
       "  <tbody>\n",
       "    <tr>\n",
       "      <th>103</th>\n",
       "      <td>Jana</td>\n",
       "      <td>Prague</td>\n",
       "      <td>33</td>\n",
       "      <td>81.0</td>\n",
       "    </tr>\n",
       "    <tr>\n",
       "      <th>104</th>\n",
       "      <td>Yi</td>\n",
       "      <td>Shanghai</td>\n",
       "      <td>34</td>\n",
       "      <td>80.0</td>\n",
       "    </tr>\n",
       "    <tr>\n",
       "      <th>105</th>\n",
       "      <td>Robin</td>\n",
       "      <td>Manchester</td>\n",
       "      <td>38</td>\n",
       "      <td>68.0</td>\n",
       "    </tr>\n",
       "    <tr>\n",
       "      <th>106</th>\n",
       "      <td>Amal</td>\n",
       "      <td>Cairo</td>\n",
       "      <td>31</td>\n",
       "      <td>61.0</td>\n",
       "    </tr>\n",
       "    <tr>\n",
       "      <th>107</th>\n",
       "      <td>Nori</td>\n",
       "      <td>Osaka</td>\n",
       "      <td>37</td>\n",
       "      <td>84.0</td>\n",
       "    </tr>\n",
       "  </tbody>\n",
       "</table>\n",
       "</div>"
      ],
      "text/plain": [
       "      name        city  age  py-score\n",
       "103   Jana      Prague   33      81.0\n",
       "104     Yi    Shanghai   34      80.0\n",
       "105  Robin  Manchester   38      68.0\n",
       "106   Amal       Cairo   31      61.0\n",
       "107   Nori       Osaka   37      84.0"
      ]
     },
     "execution_count": 5,
     "metadata": {},
     "output_type": "execute_result"
    }
   ],
   "source": [
    "df.tail()"
   ]
  },
  {
   "cell_type": "code",
   "execution_count": 6,
   "id": "b331f100-e337-4934-bb0f-72b60d88f23a",
   "metadata": {},
   "outputs": [
    {
     "data": {
      "text/plain": [
       "RangeIndex(start=101, stop=108, step=1)"
      ]
     },
     "execution_count": 6,
     "metadata": {},
     "output_type": "execute_result"
    }
   ],
   "source": [
    "df.index"
   ]
  },
  {
   "cell_type": "code",
   "execution_count": 7,
   "id": "d4388a3c-8337-41a1-87a8-7388d819f556",
   "metadata": {},
   "outputs": [
    {
     "data": {
      "text/plain": [
       "Index(['name', 'city', 'age', 'py-score'], dtype='object')"
      ]
     },
     "execution_count": 7,
     "metadata": {},
     "output_type": "execute_result"
    }
   ],
   "source": [
    "df.columns"
   ]
  },
  {
   "cell_type": "code",
   "execution_count": 8,
   "id": "f93218f4-2179-4487-911f-ee5a8ec090c4",
   "metadata": {},
   "outputs": [
    {
     "data": {
      "text/plain": [
       "pandas.core.frame.DataFrame"
      ]
     },
     "execution_count": 8,
     "metadata": {},
     "output_type": "execute_result"
    }
   ],
   "source": [
    "type(df)"
   ]
  },
  {
   "cell_type": "code",
   "execution_count": 9,
   "id": "159d02bb-7e82-4b1d-979b-81c9d313dc15",
   "metadata": {},
   "outputs": [
    {
     "data": {
      "text/plain": [
       "pandas.core.indexes.base.Index"
      ]
     },
     "execution_count": 9,
     "metadata": {},
     "output_type": "execute_result"
    }
   ],
   "source": [
    "type(df.columns)"
   ]
  },
  {
   "cell_type": "code",
   "execution_count": 10,
   "id": "d9ee69d7-aae8-40ed-a8f4-b77614e59fa6",
   "metadata": {},
   "outputs": [
    {
     "data": {
      "text/plain": [
       "name    city         age  py-score\n",
       "Yi      Shanghai     34   80.0        1\n",
       "Xavier  Mexico City  41   88.0        1\n",
       "Robin   Manchester   38   68.0        1\n",
       "Nori    Osaka        37   84.0        1\n",
       "Jana    Prague       33   81.0        1\n",
       "Ann     Toronto      28   79.0        1\n",
       "Amal    Cairo        31   61.0        1\n",
       "dtype: int64"
      ]
     },
     "execution_count": 10,
     "metadata": {},
     "output_type": "execute_result"
    }
   ],
   "source": [
    "df.value_counts()"
   ]
  },
  {
   "cell_type": "code",
   "execution_count": 11,
   "id": "17dd6c38-9193-4fdf-934f-b0d7efa02b4d",
   "metadata": {},
   "outputs": [],
   "source": [
    "cities = df['city']"
   ]
  },
  {
   "cell_type": "code",
   "execution_count": 12,
   "id": "b30dc9c4-3ded-45d1-891e-6583cea47b43",
   "metadata": {},
   "outputs": [
    {
     "data": {
      "text/plain": [
       "RangeIndex(start=101, stop=108, step=1)"
      ]
     },
     "execution_count": 12,
     "metadata": {},
     "output_type": "execute_result"
    }
   ],
   "source": [
    "cities.index"
   ]
  },
  {
   "cell_type": "code",
   "execution_count": 13,
   "id": "e531af2a-5f1b-48af-bb91-62cc37feb1f4",
   "metadata": {},
   "outputs": [
    {
     "data": {
      "text/plain": [
       "101    Mexico City\n",
       "102        Toronto\n",
       "103         Prague\n",
       "104       Shanghai\n",
       "105     Manchester\n",
       "106          Cairo\n",
       "107          Osaka\n",
       "Name: city, dtype: object"
      ]
     },
     "execution_count": 13,
     "metadata": {},
     "output_type": "execute_result"
    }
   ],
   "source": [
    "df.city"
   ]
  },
  {
   "cell_type": "code",
   "execution_count": 14,
   "id": "2c9ffb7d-9ece-4170-a622-0295967fc377",
   "metadata": {},
   "outputs": [
    {
     "data": {
      "text/plain": [
       "Index(['name', 'city', 'age', 'py-score'], dtype='object')"
      ]
     },
     "execution_count": 14,
     "metadata": {},
     "output_type": "execute_result"
    }
   ],
   "source": [
    "df.columns"
   ]
  },
  {
   "cell_type": "code",
   "execution_count": 15,
   "id": "60159765-db26-4df9-8b18-32a8ad0667fc",
   "metadata": {},
   "outputs": [
    {
     "data": {
      "text/plain": [
       "101    88.0\n",
       "102    79.0\n",
       "103    81.0\n",
       "104    80.0\n",
       "105    68.0\n",
       "106    61.0\n",
       "107    84.0\n",
       "Name: py-score, dtype: float64"
      ]
     },
     "execution_count": 15,
     "metadata": {},
     "output_type": "execute_result"
    }
   ],
   "source": [
    "df['py-score']"
   ]
  },
  {
   "cell_type": "code",
   "execution_count": 16,
   "id": "9af5df92-79ed-498c-a623-f65245522bba",
   "metadata": {},
   "outputs": [
    {
     "data": {
      "text/plain": [
       "name             Xavier\n",
       "city        Mexico City\n",
       "age                  41\n",
       "py-score             88\n",
       "Name: 101, dtype: object"
      ]
     },
     "execution_count": 16,
     "metadata": {},
     "output_type": "execute_result"
    }
   ],
   "source": [
    "df.loc[101]"
   ]
  },
  {
   "cell_type": "code",
   "execution_count": 17,
   "id": "4153b751-c465-4406-b4df-7fdde4ef09d2",
   "metadata": {},
   "outputs": [
    {
     "data": {
      "text/plain": [
       "pandas.core.series.Series"
      ]
     },
     "execution_count": 17,
     "metadata": {},
     "output_type": "execute_result"
    }
   ],
   "source": [
    "type(df.loc[101])"
   ]
  },
  {
   "cell_type": "markdown",
   "id": "a6062f2e-cf09-4f1e-b39c-711180ed8f13",
   "metadata": {},
   "source": [
    "## Key difference between pandas dataframes and pandas series"
   ]
  },
  {
   "cell_type": "code",
   "execution_count": 18,
   "id": "85224975-e158-4362-ac1f-7184a56891ee",
   "metadata": {},
   "outputs": [
    {
     "data": {
      "text/plain": [
       "name             Xavier\n",
       "city        Mexico City\n",
       "age                  41\n",
       "py-score             88\n",
       "Name: 101, dtype: object"
      ]
     },
     "execution_count": 18,
     "metadata": {},
     "output_type": "execute_result"
    }
   ],
   "source": [
    "df.loc[101]"
   ]
  },
  {
   "cell_type": "code",
   "execution_count": 19,
   "id": "de55c50e-ce0f-4421-a27b-60cf10e96eb8",
   "metadata": {},
   "outputs": [
    {
     "data": {
      "text/plain": [
       "pandas.core.series.Series"
      ]
     },
     "execution_count": 19,
     "metadata": {},
     "output_type": "execute_result"
    }
   ],
   "source": [
    "type(df.loc[101])"
   ]
  },
  {
   "cell_type": "code",
   "execution_count": 20,
   "id": "789a9b25-53b4-4895-8aac-5162ea1eca8d",
   "metadata": {},
   "outputs": [
    {
     "data": {
      "text/plain": [
       "'Mexico City'"
      ]
     },
     "execution_count": 20,
     "metadata": {},
     "output_type": "execute_result"
    }
   ],
   "source": [
    "cities.loc[101]"
   ]
  },
  {
   "cell_type": "code",
   "execution_count": 21,
   "id": "0e97e762-f545-4e1b-8915-763c4bbc45ea",
   "metadata": {},
   "outputs": [
    {
     "data": {
      "text/plain": [
       "str"
      ]
     },
     "execution_count": 21,
     "metadata": {},
     "output_type": "execute_result"
    }
   ],
   "source": [
    "type(cities.loc[101])"
   ]
  },
  {
   "cell_type": "markdown",
   "id": "a6ab37c6-dc67-4f53-903a-1de4333faf65",
   "metadata": {},
   "source": [
    "## Explore properties of a pandas DataFrame"
   ]
  },
  {
   "cell_type": "markdown",
   "id": "780c454f-4a26-48ce-8496-36f5335efd6a",
   "metadata": {},
   "source": [
    "If constructing a data frame with a numpy array and you don't want the source numpy array to change with changes in the dataframe specify copy = True"
   ]
  },
  {
   "cell_type": "code",
   "execution_count": 22,
   "id": "9cc346cd-73b5-486f-806b-801f2da7d837",
   "metadata": {},
   "outputs": [
    {
     "data": {
      "text/html": [
       "<div>\n",
       "<style scoped>\n",
       "    .dataframe tbody tr th:only-of-type {\n",
       "        vertical-align: middle;\n",
       "    }\n",
       "\n",
       "    .dataframe tbody tr th {\n",
       "        vertical-align: top;\n",
       "    }\n",
       "\n",
       "    .dataframe thead th {\n",
       "        text-align: right;\n",
       "    }\n",
       "</style>\n",
       "<table border=\"1\" class=\"dataframe\">\n",
       "  <thead>\n",
       "    <tr style=\"text-align: right;\">\n",
       "      <th></th>\n",
       "      <th>name</th>\n",
       "      <th>city</th>\n",
       "      <th>age</th>\n",
       "      <th>py-score</th>\n",
       "    </tr>\n",
       "  </thead>\n",
       "  <tbody>\n",
       "    <tr>\n",
       "      <th>101</th>\n",
       "      <td>Xavier</td>\n",
       "      <td>Mexico City</td>\n",
       "      <td>41</td>\n",
       "      <td>88.0</td>\n",
       "    </tr>\n",
       "    <tr>\n",
       "      <th>102</th>\n",
       "      <td>Ann</td>\n",
       "      <td>Toronto</td>\n",
       "      <td>28</td>\n",
       "      <td>79.0</td>\n",
       "    </tr>\n",
       "    <tr>\n",
       "      <th>103</th>\n",
       "      <td>Jana</td>\n",
       "      <td>Prague</td>\n",
       "      <td>33</td>\n",
       "      <td>81.0</td>\n",
       "    </tr>\n",
       "    <tr>\n",
       "      <th>104</th>\n",
       "      <td>Yi</td>\n",
       "      <td>Shanghai</td>\n",
       "      <td>34</td>\n",
       "      <td>80.0</td>\n",
       "    </tr>\n",
       "    <tr>\n",
       "      <th>105</th>\n",
       "      <td>Robin</td>\n",
       "      <td>Manchester</td>\n",
       "      <td>38</td>\n",
       "      <td>68.0</td>\n",
       "    </tr>\n",
       "    <tr>\n",
       "      <th>106</th>\n",
       "      <td>Amal</td>\n",
       "      <td>Cairo</td>\n",
       "      <td>31</td>\n",
       "      <td>61.0</td>\n",
       "    </tr>\n",
       "    <tr>\n",
       "      <th>107</th>\n",
       "      <td>Nori</td>\n",
       "      <td>Osaka</td>\n",
       "      <td>37</td>\n",
       "      <td>84.0</td>\n",
       "    </tr>\n",
       "  </tbody>\n",
       "</table>\n",
       "</div>"
      ],
      "text/plain": [
       "       name         city  age  py-score\n",
       "101  Xavier  Mexico City   41      88.0\n",
       "102     Ann      Toronto   28      79.0\n",
       "103    Jana       Prague   33      81.0\n",
       "104      Yi     Shanghai   34      80.0\n",
       "105   Robin   Manchester   38      68.0\n",
       "106    Amal        Cairo   31      61.0\n",
       "107    Nori        Osaka   37      84.0"
      ]
     },
     "execution_count": 22,
     "metadata": {},
     "output_type": "execute_result"
    }
   ],
   "source": [
    "pd.DataFrame(data, index=index, copy = True)"
   ]
  },
  {
   "cell_type": "code",
   "execution_count": 23,
   "id": "b3d8d035-8090-4794-82f1-0b9c602340fa",
   "metadata": {},
   "outputs": [],
   "source": [
    "import numpy as np"
   ]
  },
  {
   "cell_type": "code",
   "execution_count": 24,
   "id": "24faa65c-3db0-4e25-97ee-43f302386f11",
   "metadata": {},
   "outputs": [],
   "source": [
    "d = {'x':[1,2,3], 'y':np.array([2, 4, 8]), 'z':100}"
   ]
  },
  {
   "cell_type": "code",
   "execution_count": 25,
   "id": "aa8c66a8-cdfa-4589-8d61-6bb32f3df9bd",
   "metadata": {},
   "outputs": [
    {
     "data": {
      "text/html": [
       "<div>\n",
       "<style scoped>\n",
       "    .dataframe tbody tr th:only-of-type {\n",
       "        vertical-align: middle;\n",
       "    }\n",
       "\n",
       "    .dataframe tbody tr th {\n",
       "        vertical-align: top;\n",
       "    }\n",
       "\n",
       "    .dataframe thead th {\n",
       "        text-align: right;\n",
       "    }\n",
       "</style>\n",
       "<table border=\"1\" class=\"dataframe\">\n",
       "  <thead>\n",
       "    <tr style=\"text-align: right;\">\n",
       "      <th></th>\n",
       "      <th>z</th>\n",
       "      <th>y</th>\n",
       "      <th>x</th>\n",
       "    </tr>\n",
       "  </thead>\n",
       "  <tbody>\n",
       "    <tr>\n",
       "      <th>100</th>\n",
       "      <td>100</td>\n",
       "      <td>2</td>\n",
       "      <td>1</td>\n",
       "    </tr>\n",
       "    <tr>\n",
       "      <th>200</th>\n",
       "      <td>100</td>\n",
       "      <td>4</td>\n",
       "      <td>2</td>\n",
       "    </tr>\n",
       "    <tr>\n",
       "      <th>300</th>\n",
       "      <td>100</td>\n",
       "      <td>8</td>\n",
       "      <td>3</td>\n",
       "    </tr>\n",
       "  </tbody>\n",
       "</table>\n",
       "</div>"
      ],
      "text/plain": [
       "       z  y  x\n",
       "100  100  2  1\n",
       "200  100  4  2\n",
       "300  100  8  3"
      ]
     },
     "execution_count": 25,
     "metadata": {},
     "output_type": "execute_result"
    }
   ],
   "source": [
    "pd.DataFrame(d, index=[100, 200, 300], columns=['z', 'y', 'x'])"
   ]
  },
  {
   "cell_type": "code",
   "execution_count": 26,
   "id": "67aae1c2-2707-4140-870e-3d36d8c9f4b8",
   "metadata": {},
   "outputs": [],
   "source": [
    "lst = [{'x':1, 'y':2, 'z':100},\n",
    "      {'x':2, 'y':2, 'z':100},\n",
    "      {'x':3, 'y':8, 'z':100}]"
   ]
  },
  {
   "cell_type": "code",
   "execution_count": 27,
   "id": "8b584ca1-edab-4dad-ad42-c962767f2e72",
   "metadata": {},
   "outputs": [],
   "source": [
    "num=len(lst)"
   ]
  },
  {
   "cell_type": "code",
   "execution_count": 28,
   "id": "4fdb4f81-5384-4179-b366-e0b63f8e9757",
   "metadata": {},
   "outputs": [
    {
     "data": {
      "text/html": [
       "<div>\n",
       "<style scoped>\n",
       "    .dataframe tbody tr th:only-of-type {\n",
       "        vertical-align: middle;\n",
       "    }\n",
       "\n",
       "    .dataframe tbody tr th {\n",
       "        vertical-align: top;\n",
       "    }\n",
       "\n",
       "    .dataframe thead th {\n",
       "        text-align: right;\n",
       "    }\n",
       "</style>\n",
       "<table border=\"1\" class=\"dataframe\">\n",
       "  <thead>\n",
       "    <tr style=\"text-align: right;\">\n",
       "      <th></th>\n",
       "      <th>x</th>\n",
       "      <th>y</th>\n",
       "      <th>z</th>\n",
       "    </tr>\n",
       "  </thead>\n",
       "  <tbody>\n",
       "    <tr>\n",
       "      <th>10</th>\n",
       "      <td>1</td>\n",
       "      <td>2</td>\n",
       "      <td>100</td>\n",
       "    </tr>\n",
       "    <tr>\n",
       "      <th>11</th>\n",
       "      <td>2</td>\n",
       "      <td>2</td>\n",
       "      <td>100</td>\n",
       "    </tr>\n",
       "    <tr>\n",
       "      <th>12</th>\n",
       "      <td>3</td>\n",
       "      <td>8</td>\n",
       "      <td>100</td>\n",
       "    </tr>\n",
       "  </tbody>\n",
       "</table>\n",
       "</div>"
      ],
      "text/plain": [
       "    x  y    z\n",
       "10  1  2  100\n",
       "11  2  2  100\n",
       "12  3  8  100"
      ]
     },
     "execution_count": 28,
     "metadata": {},
     "output_type": "execute_result"
    }
   ],
   "source": [
    "pd.DataFrame(lst, index = range(10,10+num))"
   ]
  },
  {
   "cell_type": "code",
   "execution_count": 29,
   "id": "81da326f-7444-4ce5-9b86-58ac9178c245",
   "metadata": {},
   "outputs": [
    {
     "data": {
      "text/html": [
       "<div>\n",
       "<style scoped>\n",
       "    .dataframe tbody tr th:only-of-type {\n",
       "        vertical-align: middle;\n",
       "    }\n",
       "\n",
       "    .dataframe tbody tr th {\n",
       "        vertical-align: top;\n",
       "    }\n",
       "\n",
       "    .dataframe thead th {\n",
       "        text-align: right;\n",
       "    }\n",
       "</style>\n",
       "<table border=\"1\" class=\"dataframe\">\n",
       "  <thead>\n",
       "    <tr style=\"text-align: right;\">\n",
       "      <th></th>\n",
       "      <th>x</th>\n",
       "      <th>y</th>\n",
       "      <th>z</th>\n",
       "    </tr>\n",
       "  </thead>\n",
       "  <tbody>\n",
       "    <tr>\n",
       "      <th>soup</th>\n",
       "      <td>1</td>\n",
       "      <td>2</td>\n",
       "      <td>100</td>\n",
       "    </tr>\n",
       "    <tr>\n",
       "      <th>pasta</th>\n",
       "      <td>2</td>\n",
       "      <td>2</td>\n",
       "      <td>100</td>\n",
       "    </tr>\n",
       "    <tr>\n",
       "      <th>bread</th>\n",
       "      <td>3</td>\n",
       "      <td>8</td>\n",
       "      <td>100</td>\n",
       "    </tr>\n",
       "  </tbody>\n",
       "</table>\n",
       "</div>"
      ],
      "text/plain": [
       "       x  y    z\n",
       "soup   1  2  100\n",
       "pasta  2  2  100\n",
       "bread  3  8  100"
      ]
     },
     "execution_count": 29,
     "metadata": {},
     "output_type": "execute_result"
    }
   ],
   "source": [
    "pd.DataFrame(lst, index = ['soup','pasta','bread'])"
   ]
  },
  {
   "cell_type": "code",
   "execution_count": 30,
   "id": "a83e15ae-718c-4e87-a518-7bcbc57c91dd",
   "metadata": {},
   "outputs": [
    {
     "data": {
      "text/html": [
       "<div>\n",
       "<style scoped>\n",
       "    .dataframe tbody tr th:only-of-type {\n",
       "        vertical-align: middle;\n",
       "    }\n",
       "\n",
       "    .dataframe tbody tr th {\n",
       "        vertical-align: top;\n",
       "    }\n",
       "\n",
       "    .dataframe thead th {\n",
       "        text-align: right;\n",
       "    }\n",
       "</style>\n",
       "<table border=\"1\" class=\"dataframe\">\n",
       "  <thead>\n",
       "    <tr style=\"text-align: right;\">\n",
       "      <th></th>\n",
       "      <th>index</th>\n",
       "      <th>x</th>\n",
       "      <th>y</th>\n",
       "      <th>z</th>\n",
       "    </tr>\n",
       "  </thead>\n",
       "  <tbody>\n",
       "    <tr>\n",
       "      <th>0</th>\n",
       "      <td>soup</td>\n",
       "      <td>1</td>\n",
       "      <td>2</td>\n",
       "      <td>100</td>\n",
       "    </tr>\n",
       "    <tr>\n",
       "      <th>1</th>\n",
       "      <td>pasta</td>\n",
       "      <td>2</td>\n",
       "      <td>2</td>\n",
       "      <td>100</td>\n",
       "    </tr>\n",
       "    <tr>\n",
       "      <th>2</th>\n",
       "      <td>bread</td>\n",
       "      <td>3</td>\n",
       "      <td>8</td>\n",
       "      <td>100</td>\n",
       "    </tr>\n",
       "  </tbody>\n",
       "</table>\n",
       "</div>"
      ],
      "text/plain": [
       "   index  x  y    z\n",
       "0   soup  1  2  100\n",
       "1  pasta  2  2  100\n",
       "2  bread  3  8  100"
      ]
     },
     "execution_count": 30,
     "metadata": {},
     "output_type": "execute_result"
    }
   ],
   "source": [
    "pd.DataFrame(lst, index = ['soup','pasta','bread']).reset_index()"
   ]
  },
  {
   "cell_type": "markdown",
   "id": "904bd25c-889e-4203-b8c7-f54cafbb0906",
   "metadata": {},
   "source": [
    "## From a nested list"
   ]
  },
  {
   "cell_type": "code",
   "execution_count": 31,
   "id": "86da14f8-01b1-48c8-a4ad-eede1f521705",
   "metadata": {},
   "outputs": [],
   "source": [
    "lst2 = [[1, 3, 23],\n",
    "       [2,4, 50],\n",
    "       [3, 8, 98]]"
   ]
  },
  {
   "cell_type": "code",
   "execution_count": 32,
   "id": "c5de3c90-e19d-4f18-89a7-7bb0c815b286",
   "metadata": {},
   "outputs": [
    {
     "data": {
      "text/html": [
       "<div>\n",
       "<style scoped>\n",
       "    .dataframe tbody tr th:only-of-type {\n",
       "        vertical-align: middle;\n",
       "    }\n",
       "\n",
       "    .dataframe tbody tr th {\n",
       "        vertical-align: top;\n",
       "    }\n",
       "\n",
       "    .dataframe thead th {\n",
       "        text-align: right;\n",
       "    }\n",
       "</style>\n",
       "<table border=\"1\" class=\"dataframe\">\n",
       "  <thead>\n",
       "    <tr style=\"text-align: right;\">\n",
       "      <th></th>\n",
       "      <th>Quantity</th>\n",
       "      <th>Code</th>\n",
       "      <th>Price</th>\n",
       "    </tr>\n",
       "  </thead>\n",
       "  <tbody>\n",
       "    <tr>\n",
       "      <th>10</th>\n",
       "      <td>1</td>\n",
       "      <td>3</td>\n",
       "      <td>23</td>\n",
       "    </tr>\n",
       "    <tr>\n",
       "      <th>11</th>\n",
       "      <td>2</td>\n",
       "      <td>4</td>\n",
       "      <td>50</td>\n",
       "    </tr>\n",
       "    <tr>\n",
       "      <th>12</th>\n",
       "      <td>3</td>\n",
       "      <td>8</td>\n",
       "      <td>98</td>\n",
       "    </tr>\n",
       "  </tbody>\n",
       "</table>\n",
       "</div>"
      ],
      "text/plain": [
       "    Quantity  Code  Price\n",
       "10         1     3     23\n",
       "11         2     4     50\n",
       "12         3     8     98"
      ]
     },
     "execution_count": 32,
     "metadata": {},
     "output_type": "execute_result"
    }
   ],
   "source": [
    "pd.DataFrame(lst2, columns = ['Quantity', 'Code', 'Price'], index = range(10, 10 + len(lst2)))"
   ]
  },
  {
   "cell_type": "markdown",
   "id": "3d306e4f-9080-4855-9c58-59bede0899ac",
   "metadata": {},
   "source": [
    "## From a numpy array"
   ]
  },
  {
   "cell_type": "code",
   "execution_count": 33,
   "id": "e9d9e9e4-9afc-4808-be23-9ec98bef16bb",
   "metadata": {},
   "outputs": [],
   "source": [
    "arr = np.array([[1, 3, 23],\n",
    "       [2, 4, 50],\n",
    "       [3, 8, 98]])"
   ]
  },
  {
   "cell_type": "code",
   "execution_count": 34,
   "id": "56b33868-1a1b-4d38-b86d-554dd003ae19",
   "metadata": {},
   "outputs": [],
   "source": [
    "df_ = pd.DataFrame(arr)"
   ]
  },
  {
   "cell_type": "code",
   "execution_count": 35,
   "id": "fb6cd934-23e5-4c0c-834c-1f942bd3b420",
   "metadata": {},
   "outputs": [
    {
     "data": {
      "text/html": [
       "<div>\n",
       "<style scoped>\n",
       "    .dataframe tbody tr th:only-of-type {\n",
       "        vertical-align: middle;\n",
       "    }\n",
       "\n",
       "    .dataframe tbody tr th {\n",
       "        vertical-align: top;\n",
       "    }\n",
       "\n",
       "    .dataframe thead th {\n",
       "        text-align: right;\n",
       "    }\n",
       "</style>\n",
       "<table border=\"1\" class=\"dataframe\">\n",
       "  <thead>\n",
       "    <tr style=\"text-align: right;\">\n",
       "      <th></th>\n",
       "      <th>0</th>\n",
       "      <th>1</th>\n",
       "      <th>2</th>\n",
       "    </tr>\n",
       "  </thead>\n",
       "  <tbody>\n",
       "    <tr>\n",
       "      <th>0</th>\n",
       "      <td>1</td>\n",
       "      <td>3</td>\n",
       "      <td>23</td>\n",
       "    </tr>\n",
       "    <tr>\n",
       "      <th>1</th>\n",
       "      <td>2</td>\n",
       "      <td>4</td>\n",
       "      <td>50</td>\n",
       "    </tr>\n",
       "    <tr>\n",
       "      <th>2</th>\n",
       "      <td>3</td>\n",
       "      <td>8</td>\n",
       "      <td>98</td>\n",
       "    </tr>\n",
       "  </tbody>\n",
       "</table>\n",
       "</div>"
      ],
      "text/plain": [
       "   0  1   2\n",
       "0  1  3  23\n",
       "1  2  4  50\n",
       "2  3  8  98"
      ]
     },
     "execution_count": 35,
     "metadata": {},
     "output_type": "execute_result"
    }
   ],
   "source": [
    "df_"
   ]
  },
  {
   "cell_type": "code",
   "execution_count": 36,
   "id": "e4af5ddc-3fde-4e37-9f65-4bdd1be70322",
   "metadata": {},
   "outputs": [
    {
     "name": "stdout",
     "output_type": "stream",
     "text": [
      "[[ 1  3 23]\n",
      " [ 2  4 50]\n",
      " [ 3  8 98]]\n"
     ]
    }
   ],
   "source": [
    "print(arr)"
   ]
  },
  {
   "cell_type": "markdown",
   "id": "897a332e-5b82-4455-aea7-5f26ac67e3ac",
   "metadata": {},
   "source": [
    "Note that the dataframe is using the same storage location as the numpy array"
   ]
  },
  {
   "cell_type": "code",
   "execution_count": 37,
   "id": "17d0812d-abac-4004-9a47-1532c39628d1",
   "metadata": {},
   "outputs": [],
   "source": [
    "arr[1,1] = 17"
   ]
  },
  {
   "cell_type": "code",
   "execution_count": 38,
   "id": "67d56c10-6232-4f78-beec-ff62b438bbcc",
   "metadata": {},
   "outputs": [
    {
     "data": {
      "text/html": [
       "<div>\n",
       "<style scoped>\n",
       "    .dataframe tbody tr th:only-of-type {\n",
       "        vertical-align: middle;\n",
       "    }\n",
       "\n",
       "    .dataframe tbody tr th {\n",
       "        vertical-align: top;\n",
       "    }\n",
       "\n",
       "    .dataframe thead th {\n",
       "        text-align: right;\n",
       "    }\n",
       "</style>\n",
       "<table border=\"1\" class=\"dataframe\">\n",
       "  <thead>\n",
       "    <tr style=\"text-align: right;\">\n",
       "      <th></th>\n",
       "      <th>0</th>\n",
       "      <th>1</th>\n",
       "      <th>2</th>\n",
       "    </tr>\n",
       "  </thead>\n",
       "  <tbody>\n",
       "    <tr>\n",
       "      <th>0</th>\n",
       "      <td>1</td>\n",
       "      <td>3</td>\n",
       "      <td>23</td>\n",
       "    </tr>\n",
       "    <tr>\n",
       "      <th>1</th>\n",
       "      <td>2</td>\n",
       "      <td>17</td>\n",
       "      <td>50</td>\n",
       "    </tr>\n",
       "    <tr>\n",
       "      <th>2</th>\n",
       "      <td>3</td>\n",
       "      <td>8</td>\n",
       "      <td>98</td>\n",
       "    </tr>\n",
       "  </tbody>\n",
       "</table>\n",
       "</div>"
      ],
      "text/plain": [
       "   0   1   2\n",
       "0  1   3  23\n",
       "1  2  17  50\n",
       "2  3   8  98"
      ]
     },
     "execution_count": 38,
     "metadata": {},
     "output_type": "execute_result"
    }
   ],
   "source": [
    "df_"
   ]
  },
  {
   "cell_type": "markdown",
   "id": "3e892f6e-8b93-4f1b-8eb5-8554a441802c",
   "metadata": {},
   "source": [
    "If we don't want this behaviour we can specify this when defining the dataframe"
   ]
  },
  {
   "cell_type": "code",
   "execution_count": 39,
   "id": "14e4d836-da2d-41ec-9f8a-db735fd81a5c",
   "metadata": {},
   "outputs": [],
   "source": [
    "df2_ = pd.DataFrame(arr, copy=True)"
   ]
  },
  {
   "cell_type": "code",
   "execution_count": 40,
   "id": "8cd29cce-2f39-451c-83a3-d87fe7217c24",
   "metadata": {},
   "outputs": [
    {
     "data": {
      "text/html": [
       "<div>\n",
       "<style scoped>\n",
       "    .dataframe tbody tr th:only-of-type {\n",
       "        vertical-align: middle;\n",
       "    }\n",
       "\n",
       "    .dataframe tbody tr th {\n",
       "        vertical-align: top;\n",
       "    }\n",
       "\n",
       "    .dataframe thead th {\n",
       "        text-align: right;\n",
       "    }\n",
       "</style>\n",
       "<table border=\"1\" class=\"dataframe\">\n",
       "  <thead>\n",
       "    <tr style=\"text-align: right;\">\n",
       "      <th></th>\n",
       "      <th>0</th>\n",
       "      <th>1</th>\n",
       "      <th>2</th>\n",
       "    </tr>\n",
       "  </thead>\n",
       "  <tbody>\n",
       "    <tr>\n",
       "      <th>0</th>\n",
       "      <td>1</td>\n",
       "      <td>3</td>\n",
       "      <td>23</td>\n",
       "    </tr>\n",
       "    <tr>\n",
       "      <th>1</th>\n",
       "      <td>2</td>\n",
       "      <td>17</td>\n",
       "      <td>50</td>\n",
       "    </tr>\n",
       "    <tr>\n",
       "      <th>2</th>\n",
       "      <td>3</td>\n",
       "      <td>8</td>\n",
       "      <td>98</td>\n",
       "    </tr>\n",
       "  </tbody>\n",
       "</table>\n",
       "</div>"
      ],
      "text/plain": [
       "   0   1   2\n",
       "0  1   3  23\n",
       "1  2  17  50\n",
       "2  3   8  98"
      ]
     },
     "execution_count": 40,
     "metadata": {},
     "output_type": "execute_result"
    }
   ],
   "source": [
    "df2_"
   ]
  },
  {
   "cell_type": "markdown",
   "id": "fb8ce1ef-514d-4a27-9c2a-96ed1496d788",
   "metadata": {},
   "source": [
    "Now when we change the numpy array the dataframe is not changed"
   ]
  },
  {
   "cell_type": "code",
   "execution_count": 41,
   "id": "9910210c-869f-463a-9b06-f6456f776293",
   "metadata": {},
   "outputs": [],
   "source": [
    "arr[1,1] = 100"
   ]
  },
  {
   "cell_type": "code",
   "execution_count": 42,
   "id": "c0bfd467-52c2-4de2-b510-b730174b6398",
   "metadata": {},
   "outputs": [
    {
     "data": {
      "text/html": [
       "<div>\n",
       "<style scoped>\n",
       "    .dataframe tbody tr th:only-of-type {\n",
       "        vertical-align: middle;\n",
       "    }\n",
       "\n",
       "    .dataframe tbody tr th {\n",
       "        vertical-align: top;\n",
       "    }\n",
       "\n",
       "    .dataframe thead th {\n",
       "        text-align: right;\n",
       "    }\n",
       "</style>\n",
       "<table border=\"1\" class=\"dataframe\">\n",
       "  <thead>\n",
       "    <tr style=\"text-align: right;\">\n",
       "      <th></th>\n",
       "      <th>0</th>\n",
       "      <th>1</th>\n",
       "      <th>2</th>\n",
       "    </tr>\n",
       "  </thead>\n",
       "  <tbody>\n",
       "    <tr>\n",
       "      <th>0</th>\n",
       "      <td>1</td>\n",
       "      <td>3</td>\n",
       "      <td>23</td>\n",
       "    </tr>\n",
       "    <tr>\n",
       "      <th>1</th>\n",
       "      <td>2</td>\n",
       "      <td>17</td>\n",
       "      <td>50</td>\n",
       "    </tr>\n",
       "    <tr>\n",
       "      <th>2</th>\n",
       "      <td>3</td>\n",
       "      <td>8</td>\n",
       "      <td>98</td>\n",
       "    </tr>\n",
       "  </tbody>\n",
       "</table>\n",
       "</div>"
      ],
      "text/plain": [
       "   0   1   2\n",
       "0  1   3  23\n",
       "1  2  17  50\n",
       "2  3   8  98"
      ]
     },
     "execution_count": 42,
     "metadata": {},
     "output_type": "execute_result"
    }
   ],
   "source": [
    "df2_"
   ]
  },
  {
   "cell_type": "markdown",
   "id": "b00945ea-46d7-4106-b4b3-32993ff1cb7c",
   "metadata": {},
   "source": [
    "But the previous dataframe has"
   ]
  },
  {
   "cell_type": "code",
   "execution_count": 43,
   "id": "129db78a-ef7d-4725-a60f-10eff5199c96",
   "metadata": {},
   "outputs": [
    {
     "data": {
      "text/html": [
       "<div>\n",
       "<style scoped>\n",
       "    .dataframe tbody tr th:only-of-type {\n",
       "        vertical-align: middle;\n",
       "    }\n",
       "\n",
       "    .dataframe tbody tr th {\n",
       "        vertical-align: top;\n",
       "    }\n",
       "\n",
       "    .dataframe thead th {\n",
       "        text-align: right;\n",
       "    }\n",
       "</style>\n",
       "<table border=\"1\" class=\"dataframe\">\n",
       "  <thead>\n",
       "    <tr style=\"text-align: right;\">\n",
       "      <th></th>\n",
       "      <th>0</th>\n",
       "      <th>1</th>\n",
       "      <th>2</th>\n",
       "    </tr>\n",
       "  </thead>\n",
       "  <tbody>\n",
       "    <tr>\n",
       "      <th>0</th>\n",
       "      <td>1</td>\n",
       "      <td>3</td>\n",
       "      <td>23</td>\n",
       "    </tr>\n",
       "    <tr>\n",
       "      <th>1</th>\n",
       "      <td>2</td>\n",
       "      <td>100</td>\n",
       "      <td>50</td>\n",
       "    </tr>\n",
       "    <tr>\n",
       "      <th>2</th>\n",
       "      <td>3</td>\n",
       "      <td>8</td>\n",
       "      <td>98</td>\n",
       "    </tr>\n",
       "  </tbody>\n",
       "</table>\n",
       "</div>"
      ],
      "text/plain": [
       "   0    1   2\n",
       "0  1    3  23\n",
       "1  2  100  50\n",
       "2  3    8  98"
      ]
     },
     "execution_count": 43,
     "metadata": {},
     "output_type": "execute_result"
    }
   ],
   "source": [
    "df_"
   ]
  },
  {
   "cell_type": "markdown",
   "id": "100584c7-b51d-4d61-b829-e24e1dd6475a",
   "metadata": {},
   "source": [
    "## Create a csv file from a data frame"
   ]
  },
  {
   "cell_type": "code",
   "execution_count": 44,
   "id": "d7e9856d-f82a-48bb-bd7c-38aef68f133a",
   "metadata": {},
   "outputs": [],
   "source": [
    "df.to_csv(\"job_candidates.csv\")"
   ]
  },
  {
   "cell_type": "markdown",
   "id": "63b9168d-70f4-494a-903e-cc841d79c45b",
   "metadata": {},
   "source": [
    "## Create a data frame from a csv file"
   ]
  },
  {
   "cell_type": "code",
   "execution_count": 45,
   "id": "2a0c0ce6-e064-43ee-8e91-0f369cd2def7",
   "metadata": {},
   "outputs": [
    {
     "data": {
      "text/html": [
       "<div>\n",
       "<style scoped>\n",
       "    .dataframe tbody tr th:only-of-type {\n",
       "        vertical-align: middle;\n",
       "    }\n",
       "\n",
       "    .dataframe tbody tr th {\n",
       "        vertical-align: top;\n",
       "    }\n",
       "\n",
       "    .dataframe thead th {\n",
       "        text-align: right;\n",
       "    }\n",
       "</style>\n",
       "<table border=\"1\" class=\"dataframe\">\n",
       "  <thead>\n",
       "    <tr style=\"text-align: right;\">\n",
       "      <th></th>\n",
       "      <th>Unnamed: 0</th>\n",
       "      <th>name</th>\n",
       "      <th>city</th>\n",
       "      <th>age</th>\n",
       "      <th>py-score</th>\n",
       "    </tr>\n",
       "  </thead>\n",
       "  <tbody>\n",
       "    <tr>\n",
       "      <th>0</th>\n",
       "      <td>101</td>\n",
       "      <td>Xavier</td>\n",
       "      <td>Mexico City</td>\n",
       "      <td>41</td>\n",
       "      <td>88.0</td>\n",
       "    </tr>\n",
       "    <tr>\n",
       "      <th>1</th>\n",
       "      <td>102</td>\n",
       "      <td>Ann</td>\n",
       "      <td>Toronto</td>\n",
       "      <td>28</td>\n",
       "      <td>79.0</td>\n",
       "    </tr>\n",
       "    <tr>\n",
       "      <th>2</th>\n",
       "      <td>103</td>\n",
       "      <td>Jana</td>\n",
       "      <td>Prague</td>\n",
       "      <td>33</td>\n",
       "      <td>81.0</td>\n",
       "    </tr>\n",
       "    <tr>\n",
       "      <th>3</th>\n",
       "      <td>104</td>\n",
       "      <td>Yi</td>\n",
       "      <td>Shanghai</td>\n",
       "      <td>34</td>\n",
       "      <td>80.0</td>\n",
       "    </tr>\n",
       "    <tr>\n",
       "      <th>4</th>\n",
       "      <td>105</td>\n",
       "      <td>Robin</td>\n",
       "      <td>Manchester</td>\n",
       "      <td>38</td>\n",
       "      <td>68.0</td>\n",
       "    </tr>\n",
       "    <tr>\n",
       "      <th>5</th>\n",
       "      <td>106</td>\n",
       "      <td>Amal</td>\n",
       "      <td>Cairo</td>\n",
       "      <td>31</td>\n",
       "      <td>61.0</td>\n",
       "    </tr>\n",
       "    <tr>\n",
       "      <th>6</th>\n",
       "      <td>107</td>\n",
       "      <td>Nori</td>\n",
       "      <td>Osaka</td>\n",
       "      <td>37</td>\n",
       "      <td>84.0</td>\n",
       "    </tr>\n",
       "  </tbody>\n",
       "</table>\n",
       "</div>"
      ],
      "text/plain": [
       "   Unnamed: 0    name         city  age  py-score\n",
       "0         101  Xavier  Mexico City   41      88.0\n",
       "1         102     Ann      Toronto   28      79.0\n",
       "2         103    Jana       Prague   33      81.0\n",
       "3         104      Yi     Shanghai   34      80.0\n",
       "4         105   Robin   Manchester   38      68.0\n",
       "5         106    Amal        Cairo   31      61.0\n",
       "6         107    Nori        Osaka   37      84.0"
      ]
     },
     "execution_count": 45,
     "metadata": {},
     "output_type": "execute_result"
    }
   ],
   "source": [
    "pd.read_csv(\"job_candidates.csv\")"
   ]
  },
  {
   "cell_type": "markdown",
   "id": "c8b570b3-1456-4c11-b0eb-86c9de9af332",
   "metadata": {},
   "source": [
    "Use the first column as the index"
   ]
  },
  {
   "cell_type": "code",
   "execution_count": 46,
   "id": "87837ae5-04ad-43f8-9dcb-d20c931cbe5f",
   "metadata": {},
   "outputs": [
    {
     "data": {
      "text/html": [
       "<div>\n",
       "<style scoped>\n",
       "    .dataframe tbody tr th:only-of-type {\n",
       "        vertical-align: middle;\n",
       "    }\n",
       "\n",
       "    .dataframe tbody tr th {\n",
       "        vertical-align: top;\n",
       "    }\n",
       "\n",
       "    .dataframe thead th {\n",
       "        text-align: right;\n",
       "    }\n",
       "</style>\n",
       "<table border=\"1\" class=\"dataframe\">\n",
       "  <thead>\n",
       "    <tr style=\"text-align: right;\">\n",
       "      <th></th>\n",
       "      <th>name</th>\n",
       "      <th>city</th>\n",
       "      <th>age</th>\n",
       "      <th>py-score</th>\n",
       "    </tr>\n",
       "  </thead>\n",
       "  <tbody>\n",
       "    <tr>\n",
       "      <th>101</th>\n",
       "      <td>Xavier</td>\n",
       "      <td>Mexico City</td>\n",
       "      <td>41</td>\n",
       "      <td>88.0</td>\n",
       "    </tr>\n",
       "    <tr>\n",
       "      <th>102</th>\n",
       "      <td>Ann</td>\n",
       "      <td>Toronto</td>\n",
       "      <td>28</td>\n",
       "      <td>79.0</td>\n",
       "    </tr>\n",
       "    <tr>\n",
       "      <th>103</th>\n",
       "      <td>Jana</td>\n",
       "      <td>Prague</td>\n",
       "      <td>33</td>\n",
       "      <td>81.0</td>\n",
       "    </tr>\n",
       "    <tr>\n",
       "      <th>104</th>\n",
       "      <td>Yi</td>\n",
       "      <td>Shanghai</td>\n",
       "      <td>34</td>\n",
       "      <td>80.0</td>\n",
       "    </tr>\n",
       "    <tr>\n",
       "      <th>105</th>\n",
       "      <td>Robin</td>\n",
       "      <td>Manchester</td>\n",
       "      <td>38</td>\n",
       "      <td>68.0</td>\n",
       "    </tr>\n",
       "    <tr>\n",
       "      <th>106</th>\n",
       "      <td>Amal</td>\n",
       "      <td>Cairo</td>\n",
       "      <td>31</td>\n",
       "      <td>61.0</td>\n",
       "    </tr>\n",
       "    <tr>\n",
       "      <th>107</th>\n",
       "      <td>Nori</td>\n",
       "      <td>Osaka</td>\n",
       "      <td>37</td>\n",
       "      <td>84.0</td>\n",
       "    </tr>\n",
       "  </tbody>\n",
       "</table>\n",
       "</div>"
      ],
      "text/plain": [
       "       name         city  age  py-score\n",
       "101  Xavier  Mexico City   41      88.0\n",
       "102     Ann      Toronto   28      79.0\n",
       "103    Jana       Prague   33      81.0\n",
       "104      Yi     Shanghai   34      80.0\n",
       "105   Robin   Manchester   38      68.0\n",
       "106    Amal        Cairo   31      61.0\n",
       "107    Nori        Osaka   37      84.0"
      ]
     },
     "execution_count": 46,
     "metadata": {},
     "output_type": "execute_result"
    }
   ],
   "source": [
    "pd.read_csv(\"job_candidates.csv\", index_col=0)"
   ]
  },
  {
   "cell_type": "markdown",
   "id": "8154ddf1-cb69-40cc-a61e-455ca82da4e4",
   "metadata": {},
   "source": [
    "## Data Frame Attributes"
   ]
  },
  {
   "cell_type": "markdown",
   "id": "9301d1c5-9bb1-4328-b957-89a57cca9983",
   "metadata": {},
   "source": [
    "### Look at the index"
   ]
  },
  {
   "cell_type": "code",
   "execution_count": 47,
   "id": "b8122476-fbda-4927-b2a9-82e431140538",
   "metadata": {},
   "outputs": [
    {
     "data": {
      "text/plain": [
       "RangeIndex(start=101, stop=108, step=1)"
      ]
     },
     "execution_count": 47,
     "metadata": {},
     "output_type": "execute_result"
    }
   ],
   "source": [
    "df.index"
   ]
  },
  {
   "cell_type": "code",
   "execution_count": 48,
   "id": "cb3aa966-e65e-45c5-bfdb-295152fad2cc",
   "metadata": {},
   "outputs": [
    {
     "data": {
      "text/plain": [
       "101"
      ]
     },
     "execution_count": 48,
     "metadata": {},
     "output_type": "execute_result"
    }
   ],
   "source": [
    "df.index[0]"
   ]
  },
  {
   "cell_type": "code",
   "execution_count": 49,
   "id": "41746633-8bb7-49ba-9bcc-5d6a7960841d",
   "metadata": {},
   "outputs": [
    {
     "data": {
      "text/plain": [
       "103"
      ]
     },
     "execution_count": 49,
     "metadata": {},
     "output_type": "execute_result"
    }
   ],
   "source": [
    "df.index[2]"
   ]
  },
  {
   "cell_type": "code",
   "execution_count": 50,
   "id": "80261d07-ac10-4157-a9fc-8bbb59a3f1be",
   "metadata": {},
   "outputs": [
    {
     "data": {
      "text/plain": [
       "Index(['name', 'city', 'age', 'py-score'], dtype='object')"
      ]
     },
     "execution_count": 50,
     "metadata": {},
     "output_type": "execute_result"
    }
   ],
   "source": [
    "df.columns"
   ]
  },
  {
   "cell_type": "code",
   "execution_count": 51,
   "id": "31d0c4d9-f516-446f-a0a8-90a8aa8b703f",
   "metadata": {},
   "outputs": [
    {
     "data": {
      "text/plain": [
       "'city'"
      ]
     },
     "execution_count": 51,
     "metadata": {},
     "output_type": "execute_result"
    }
   ],
   "source": [
    "df.columns[1]"
   ]
  },
  {
   "cell_type": "markdown",
   "id": "f6f86da8-6906-481f-83fb-60516b9e940f",
   "metadata": {},
   "source": [
    "Index objects in pandas immutable"
   ]
  },
  {
   "cell_type": "code",
   "execution_count": 52,
   "id": "96112466-2f4d-4b19-8fe8-3dca2627da30",
   "metadata": {},
   "outputs": [
    {
     "name": "stdout",
     "output_type": "stream",
     "text": [
      "Error generated!  Pandas index objects are immutable\n"
     ]
    }
   ],
   "source": [
    "try:\n",
    "    df.index[1] = 99\n",
    "except:\n",
    "    print(\"Error generated!  Pandas index objects are immutable\")"
   ]
  },
  {
   "cell_type": "markdown",
   "id": "21393342-f9d6-4ddd-91d8-c1d111bc3e11",
   "metadata": {},
   "source": [
    "But you can change the entire index like this"
   ]
  },
  {
   "cell_type": "code",
   "execution_count": 53,
   "id": "36e9f03f-0496-415d-9853-89af77b87337",
   "metadata": {},
   "outputs": [],
   "source": [
    "df.index = np.arange(10, 17)"
   ]
  },
  {
   "cell_type": "code",
   "execution_count": 54,
   "id": "d5be9734-8d62-4535-ba4f-3badd7766a12",
   "metadata": {},
   "outputs": [
    {
     "data": {
      "text/plain": [
       "Int64Index([10, 11, 12, 13, 14, 15, 16], dtype='int64')"
      ]
     },
     "execution_count": 54,
     "metadata": {},
     "output_type": "execute_result"
    }
   ],
   "source": [
    "df.index"
   ]
  },
  {
   "cell_type": "code",
   "execution_count": 55,
   "id": "cb5702f3-960b-43d4-bb82-5ce029cdded8",
   "metadata": {},
   "outputs": [
    {
     "data": {
      "text/html": [
       "<div>\n",
       "<style scoped>\n",
       "    .dataframe tbody tr th:only-of-type {\n",
       "        vertical-align: middle;\n",
       "    }\n",
       "\n",
       "    .dataframe tbody tr th {\n",
       "        vertical-align: top;\n",
       "    }\n",
       "\n",
       "    .dataframe thead th {\n",
       "        text-align: right;\n",
       "    }\n",
       "</style>\n",
       "<table border=\"1\" class=\"dataframe\">\n",
       "  <thead>\n",
       "    <tr style=\"text-align: right;\">\n",
       "      <th></th>\n",
       "      <th>name</th>\n",
       "      <th>city</th>\n",
       "      <th>age</th>\n",
       "      <th>py-score</th>\n",
       "    </tr>\n",
       "  </thead>\n",
       "  <tbody>\n",
       "    <tr>\n",
       "      <th>10</th>\n",
       "      <td>Xavier</td>\n",
       "      <td>Mexico City</td>\n",
       "      <td>41</td>\n",
       "      <td>88.0</td>\n",
       "    </tr>\n",
       "    <tr>\n",
       "      <th>11</th>\n",
       "      <td>Ann</td>\n",
       "      <td>Toronto</td>\n",
       "      <td>28</td>\n",
       "      <td>79.0</td>\n",
       "    </tr>\n",
       "    <tr>\n",
       "      <th>12</th>\n",
       "      <td>Jana</td>\n",
       "      <td>Prague</td>\n",
       "      <td>33</td>\n",
       "      <td>81.0</td>\n",
       "    </tr>\n",
       "    <tr>\n",
       "      <th>13</th>\n",
       "      <td>Yi</td>\n",
       "      <td>Shanghai</td>\n",
       "      <td>34</td>\n",
       "      <td>80.0</td>\n",
       "    </tr>\n",
       "    <tr>\n",
       "      <th>14</th>\n",
       "      <td>Robin</td>\n",
       "      <td>Manchester</td>\n",
       "      <td>38</td>\n",
       "      <td>68.0</td>\n",
       "    </tr>\n",
       "    <tr>\n",
       "      <th>15</th>\n",
       "      <td>Amal</td>\n",
       "      <td>Cairo</td>\n",
       "      <td>31</td>\n",
       "      <td>61.0</td>\n",
       "    </tr>\n",
       "    <tr>\n",
       "      <th>16</th>\n",
       "      <td>Nori</td>\n",
       "      <td>Osaka</td>\n",
       "      <td>37</td>\n",
       "      <td>84.0</td>\n",
       "    </tr>\n",
       "  </tbody>\n",
       "</table>\n",
       "</div>"
      ],
      "text/plain": [
       "      name         city  age  py-score\n",
       "10  Xavier  Mexico City   41      88.0\n",
       "11     Ann      Toronto   28      79.0\n",
       "12    Jana       Prague   33      81.0\n",
       "13      Yi     Shanghai   34      80.0\n",
       "14   Robin   Manchester   38      68.0\n",
       "15    Amal        Cairo   31      61.0\n",
       "16    Nori        Osaka   37      84.0"
      ]
     },
     "execution_count": 55,
     "metadata": {},
     "output_type": "execute_result"
    }
   ],
   "source": [
    "df"
   ]
  },
  {
   "cell_type": "markdown",
   "id": "3f781d5b-9d49-4f8a-a535-a0cfe2f80872",
   "metadata": {},
   "source": [
    "### Access the values of the dataframe"
   ]
  },
  {
   "cell_type": "code",
   "execution_count": 56,
   "id": "6606160a-9f6d-4819-95b7-165a8f1c437e",
   "metadata": {},
   "outputs": [
    {
     "data": {
      "text/plain": [
       "array([['Xavier', 'Mexico City', 41, 88.0],\n",
       "       ['Ann', 'Toronto', 28, 79.0],\n",
       "       ['Jana', 'Prague', 33, 81.0],\n",
       "       ['Yi', 'Shanghai', 34, 80.0],\n",
       "       ['Robin', 'Manchester', 38, 68.0],\n",
       "       ['Amal', 'Cairo', 31, 61.0],\n",
       "       ['Nori', 'Osaka', 37, 84.0]], dtype=object)"
      ]
     },
     "execution_count": 56,
     "metadata": {},
     "output_type": "execute_result"
    }
   ],
   "source": [
    "df.values"
   ]
  },
  {
   "cell_type": "markdown",
   "id": "4f4b2838-147d-444b-ae97-5a50c05e330f",
   "metadata": {},
   "source": [
    "The to_numpy() method is recommended because it offers additional keyword arguments and if you want to use the data from the dataframe by passing a True or False value to the copy argument and also specify dtypes."
   ]
  },
  {
   "cell_type": "code",
   "execution_count": 57,
   "id": "15102bb9-d896-4226-bb16-0b3a199a55c4",
   "metadata": {},
   "outputs": [
    {
     "data": {
      "text/plain": [
       "array([['Xavier', 'Mexico City', 41, 88.0],\n",
       "       ['Ann', 'Toronto', 28, 79.0],\n",
       "       ['Jana', 'Prague', 33, 81.0],\n",
       "       ['Yi', 'Shanghai', 34, 80.0],\n",
       "       ['Robin', 'Manchester', 38, 68.0],\n",
       "       ['Amal', 'Cairo', 31, 61.0],\n",
       "       ['Nori', 'Osaka', 37, 84.0]], dtype=object)"
      ]
     },
     "execution_count": 57,
     "metadata": {},
     "output_type": "execute_result"
    }
   ],
   "source": [
    "df.to_numpy()"
   ]
  },
  {
   "cell_type": "code",
   "execution_count": 58,
   "id": "8e0ae2ff-e3dc-4873-922e-4f2d09265e9f",
   "metadata": {},
   "outputs": [
    {
     "data": {
      "text/plain": [
       "name         object\n",
       "city         object\n",
       "age           int64\n",
       "py-score    float64\n",
       "dtype: object"
      ]
     },
     "execution_count": 58,
     "metadata": {},
     "output_type": "execute_result"
    }
   ],
   "source": [
    "df.dtypes"
   ]
  },
  {
   "cell_type": "markdown",
   "id": "41c0b41e-34e7-4088-bfe6-26edf5652907",
   "metadata": {},
   "source": [
    "### Change dtype"
   ]
  },
  {
   "cell_type": "markdown",
   "id": "faed28f1-5397-4fae-99cd-066755366fdd",
   "metadata": {},
   "source": [
    "Data types might be changed to save some space"
   ]
  },
  {
   "cell_type": "code",
   "execution_count": 59,
   "id": "eee33ee5-4d30-4a55-bfc3-c5e637450959",
   "metadata": {},
   "outputs": [],
   "source": [
    "df_ = df.astype(dtype = {'age':np.int32, 'py-score':np.float32})"
   ]
  },
  {
   "cell_type": "code",
   "execution_count": 60,
   "id": "df91e2f9-72ce-4745-898e-d327b3205376",
   "metadata": {},
   "outputs": [
    {
     "data": {
      "text/plain": [
       "name         object\n",
       "city         object\n",
       "age           int32\n",
       "py-score    float32\n",
       "dtype: object"
      ]
     },
     "execution_count": 60,
     "metadata": {},
     "output_type": "execute_result"
    }
   ],
   "source": [
    "df_.dtypes"
   ]
  },
  {
   "cell_type": "markdown",
   "id": "5bba451c-836a-4da7-a7d5-1b7adbbe4d8f",
   "metadata": {},
   "source": [
    "### Size of dataframe"
   ]
  },
  {
   "cell_type": "code",
   "execution_count": 61,
   "id": "266c9cc8-9766-4593-9476-f61900eb1d63",
   "metadata": {},
   "outputs": [
    {
     "data": {
      "text/plain": [
       "2"
      ]
     },
     "execution_count": 61,
     "metadata": {},
     "output_type": "execute_result"
    }
   ],
   "source": [
    "df.ndim"
   ]
  },
  {
   "cell_type": "code",
   "execution_count": 62,
   "id": "ddd25faf-5fa4-4eee-8152-4e01e0a13621",
   "metadata": {},
   "outputs": [
    {
     "data": {
      "text/plain": [
       "28"
      ]
     },
     "execution_count": 62,
     "metadata": {},
     "output_type": "execute_result"
    }
   ],
   "source": [
    "df.size"
   ]
  },
  {
   "cell_type": "code",
   "execution_count": 63,
   "id": "02fe51aa-0022-4cf2-af0c-4afa4877af1f",
   "metadata": {},
   "outputs": [
    {
     "data": {
      "text/plain": [
       "(7, 4)"
      ]
     },
     "execution_count": 63,
     "metadata": {},
     "output_type": "execute_result"
    }
   ],
   "source": [
    "df.shape"
   ]
  },
  {
   "cell_type": "code",
   "execution_count": 64,
   "id": "5c8dc77d-526c-47ed-964e-a7c8c4729838",
   "metadata": {},
   "outputs": [
    {
     "data": {
      "text/plain": [
       "Index       56\n",
       "name        56\n",
       "city        56\n",
       "age         28\n",
       "py-score    28\n",
       "dtype: int64"
      ]
     },
     "execution_count": 64,
     "metadata": {},
     "output_type": "execute_result"
    }
   ],
   "source": [
    "df_.memory_usage()"
   ]
  },
  {
   "cell_type": "markdown",
   "id": "36b3bb2b-9f72-4469-9c07-e95f9c668a81",
   "metadata": {},
   "source": [
    "## Accessing and Modifying Data"
   ]
  },
  {
   "cell_type": "code",
   "execution_count": 65,
   "id": "65f3e6b4-00e9-4cc3-af34-17e8e47aec15",
   "metadata": {},
   "outputs": [
    {
     "data": {
      "text/plain": [
       "10    Xavier\n",
       "11       Ann\n",
       "12      Jana\n",
       "13        Yi\n",
       "14     Robin\n",
       "15      Amal\n",
       "16      Nori\n",
       "Name: name, dtype: object"
      ]
     },
     "execution_count": 65,
     "metadata": {},
     "output_type": "execute_result"
    }
   ],
   "source": [
    "df['name']"
   ]
  },
  {
   "cell_type": "code",
   "execution_count": 66,
   "id": "a632a2cb-800c-47e3-9744-9dbe3c413d81",
   "metadata": {},
   "outputs": [
    {
     "data": {
      "text/plain": [
       "10    Xavier\n",
       "11       Ann\n",
       "12      Jana\n",
       "13        Yi\n",
       "14     Robin\n",
       "15      Amal\n",
       "16      Nori\n",
       "Name: name, dtype: object"
      ]
     },
     "execution_count": 66,
     "metadata": {},
     "output_type": "execute_result"
    }
   ],
   "source": [
    "df.name"
   ]
  },
  {
   "cell_type": "code",
   "execution_count": 67,
   "id": "a9a8aa6a-2e92-4396-b647-0d0580baeb78",
   "metadata": {},
   "outputs": [
    {
     "data": {
      "text/plain": [
       "10    41\n",
       "11    28\n",
       "12    33\n",
       "13    34\n",
       "14    38\n",
       "15    31\n",
       "16    37\n",
       "Name: age, dtype: int64"
      ]
     },
     "execution_count": 67,
     "metadata": {},
     "output_type": "execute_result"
    }
   ],
   "source": [
    "df.age"
   ]
  },
  {
   "cell_type": "code",
   "execution_count": 68,
   "id": "9e578839-0acc-475c-97e6-ac6e40a8f17f",
   "metadata": {},
   "outputs": [
    {
     "ename": "KeyError",
     "evalue": "0",
     "output_type": "error",
     "traceback": [
      "\u001b[0;31m---------------------------------------------------------------------------\u001b[0m",
      "\u001b[0;31mKeyError\u001b[0m                                  Traceback (most recent call last)",
      "File \u001b[0;32m~/mambaforge/lib/python3.9/site-packages/pandas/core/indexes/base.py:2895\u001b[0m, in \u001b[0;36mIndex.get_loc\u001b[0;34m(self, key, method, tolerance)\u001b[0m\n\u001b[1;32m   2894\u001b[0m \u001b[38;5;28;01mtry\u001b[39;00m:\n\u001b[0;32m-> 2895\u001b[0m     \u001b[38;5;28;01mreturn\u001b[39;00m \u001b[38;5;28;43mself\u001b[39;49m\u001b[38;5;241;43m.\u001b[39;49m\u001b[43m_engine\u001b[49m\u001b[38;5;241;43m.\u001b[39;49m\u001b[43mget_loc\u001b[49m\u001b[43m(\u001b[49m\u001b[43mcasted_key\u001b[49m\u001b[43m)\u001b[49m\n\u001b[1;32m   2896\u001b[0m \u001b[38;5;28;01mexcept\u001b[39;00m \u001b[38;5;167;01mKeyError\u001b[39;00m \u001b[38;5;28;01mas\u001b[39;00m err:\n",
      "File \u001b[0;32mpandas/_libs/index.pyx:70\u001b[0m, in \u001b[0;36mpandas._libs.index.IndexEngine.get_loc\u001b[0;34m()\u001b[0m\n",
      "File \u001b[0;32mpandas/_libs/index.pyx:101\u001b[0m, in \u001b[0;36mpandas._libs.index.IndexEngine.get_loc\u001b[0;34m()\u001b[0m\n",
      "File \u001b[0;32mpandas/_libs/hashtable_class_helper.pxi:1032\u001b[0m, in \u001b[0;36mpandas._libs.hashtable.Int64HashTable.get_item\u001b[0;34m()\u001b[0m\n",
      "File \u001b[0;32mpandas/_libs/hashtable_class_helper.pxi:1039\u001b[0m, in \u001b[0;36mpandas._libs.hashtable.Int64HashTable.get_item\u001b[0;34m()\u001b[0m\n",
      "\u001b[0;31mKeyError\u001b[0m: 0",
      "\nThe above exception was the direct cause of the following exception:\n",
      "\u001b[0;31mKeyError\u001b[0m                                  Traceback (most recent call last)",
      "Input \u001b[0;32mIn [68]\u001b[0m, in \u001b[0;36m<cell line: 2>\u001b[0;34m()\u001b[0m\n\u001b[1;32m      1\u001b[0m \u001b[38;5;66;03m# Error because 0 is not a valid index label\u001b[39;00m\n\u001b[0;32m----> 2\u001b[0m \u001b[43mdf\u001b[49m\u001b[38;5;241;43m.\u001b[39;49m\u001b[43mloc\u001b[49m\u001b[43m[\u001b[49m\u001b[38;5;241;43m0\u001b[39;49m\u001b[43m]\u001b[49m\n",
      "File \u001b[0;32m~/mambaforge/lib/python3.9/site-packages/pandas/core/indexing.py:879\u001b[0m, in \u001b[0;36m_LocationIndexer.__getitem__\u001b[0;34m(self, key)\u001b[0m\n\u001b[1;32m    876\u001b[0m axis \u001b[38;5;241m=\u001b[39m \u001b[38;5;28mself\u001b[39m\u001b[38;5;241m.\u001b[39maxis \u001b[38;5;129;01mor\u001b[39;00m \u001b[38;5;241m0\u001b[39m\n\u001b[1;32m    878\u001b[0m maybe_callable \u001b[38;5;241m=\u001b[39m com\u001b[38;5;241m.\u001b[39mapply_if_callable(key, \u001b[38;5;28mself\u001b[39m\u001b[38;5;241m.\u001b[39mobj)\n\u001b[0;32m--> 879\u001b[0m \u001b[38;5;28;01mreturn\u001b[39;00m \u001b[38;5;28;43mself\u001b[39;49m\u001b[38;5;241;43m.\u001b[39;49m\u001b[43m_getitem_axis\u001b[49m\u001b[43m(\u001b[49m\u001b[43mmaybe_callable\u001b[49m\u001b[43m,\u001b[49m\u001b[43m \u001b[49m\u001b[43maxis\u001b[49m\u001b[38;5;241;43m=\u001b[39;49m\u001b[43maxis\u001b[49m\u001b[43m)\u001b[49m\n",
      "File \u001b[0;32m~/mambaforge/lib/python3.9/site-packages/pandas/core/indexing.py:1110\u001b[0m, in \u001b[0;36m_LocIndexer._getitem_axis\u001b[0;34m(self, key, axis)\u001b[0m\n\u001b[1;32m   1108\u001b[0m \u001b[38;5;66;03m# fall thru to straight lookup\u001b[39;00m\n\u001b[1;32m   1109\u001b[0m \u001b[38;5;28mself\u001b[39m\u001b[38;5;241m.\u001b[39m_validate_key(key, axis)\n\u001b[0;32m-> 1110\u001b[0m \u001b[38;5;28;01mreturn\u001b[39;00m \u001b[38;5;28;43mself\u001b[39;49m\u001b[38;5;241;43m.\u001b[39;49m\u001b[43m_get_label\u001b[49m\u001b[43m(\u001b[49m\u001b[43mkey\u001b[49m\u001b[43m,\u001b[49m\u001b[43m \u001b[49m\u001b[43maxis\u001b[49m\u001b[38;5;241;43m=\u001b[39;49m\u001b[43maxis\u001b[49m\u001b[43m)\u001b[49m\n",
      "File \u001b[0;32m~/mambaforge/lib/python3.9/site-packages/pandas/core/indexing.py:1059\u001b[0m, in \u001b[0;36m_LocIndexer._get_label\u001b[0;34m(self, label, axis)\u001b[0m\n\u001b[1;32m   1057\u001b[0m \u001b[38;5;28;01mdef\u001b[39;00m \u001b[38;5;21m_get_label\u001b[39m(\u001b[38;5;28mself\u001b[39m, label, axis: \u001b[38;5;28mint\u001b[39m):\n\u001b[1;32m   1058\u001b[0m     \u001b[38;5;66;03m# GH#5667 this will fail if the label is not present in the axis.\u001b[39;00m\n\u001b[0;32m-> 1059\u001b[0m     \u001b[38;5;28;01mreturn\u001b[39;00m \u001b[38;5;28;43mself\u001b[39;49m\u001b[38;5;241;43m.\u001b[39;49m\u001b[43mobj\u001b[49m\u001b[38;5;241;43m.\u001b[39;49m\u001b[43mxs\u001b[49m\u001b[43m(\u001b[49m\u001b[43mlabel\u001b[49m\u001b[43m,\u001b[49m\u001b[43m \u001b[49m\u001b[43maxis\u001b[49m\u001b[38;5;241;43m=\u001b[39;49m\u001b[43maxis\u001b[49m\u001b[43m)\u001b[49m\n",
      "File \u001b[0;32m~/mambaforge/lib/python3.9/site-packages/pandas/core/generic.py:3491\u001b[0m, in \u001b[0;36mNDFrame.xs\u001b[0;34m(self, key, axis, level, drop_level)\u001b[0m\n\u001b[1;32m   3489\u001b[0m     loc, new_index \u001b[38;5;241m=\u001b[39m \u001b[38;5;28mself\u001b[39m\u001b[38;5;241m.\u001b[39mindex\u001b[38;5;241m.\u001b[39mget_loc_level(key, drop_level\u001b[38;5;241m=\u001b[39mdrop_level)\n\u001b[1;32m   3490\u001b[0m \u001b[38;5;28;01melse\u001b[39;00m:\n\u001b[0;32m-> 3491\u001b[0m     loc \u001b[38;5;241m=\u001b[39m \u001b[38;5;28;43mself\u001b[39;49m\u001b[38;5;241;43m.\u001b[39;49m\u001b[43mindex\u001b[49m\u001b[38;5;241;43m.\u001b[39;49m\u001b[43mget_loc\u001b[49m\u001b[43m(\u001b[49m\u001b[43mkey\u001b[49m\u001b[43m)\u001b[49m\n\u001b[1;32m   3493\u001b[0m     \u001b[38;5;28;01mif\u001b[39;00m \u001b[38;5;28misinstance\u001b[39m(loc, np\u001b[38;5;241m.\u001b[39mndarray):\n\u001b[1;32m   3494\u001b[0m         \u001b[38;5;28;01mif\u001b[39;00m loc\u001b[38;5;241m.\u001b[39mdtype \u001b[38;5;241m==\u001b[39m np\u001b[38;5;241m.\u001b[39mbool_:\n",
      "File \u001b[0;32m~/mambaforge/lib/python3.9/site-packages/pandas/core/indexes/base.py:2897\u001b[0m, in \u001b[0;36mIndex.get_loc\u001b[0;34m(self, key, method, tolerance)\u001b[0m\n\u001b[1;32m   2895\u001b[0m         \u001b[38;5;28;01mreturn\u001b[39;00m \u001b[38;5;28mself\u001b[39m\u001b[38;5;241m.\u001b[39m_engine\u001b[38;5;241m.\u001b[39mget_loc(casted_key)\n\u001b[1;32m   2896\u001b[0m     \u001b[38;5;28;01mexcept\u001b[39;00m \u001b[38;5;167;01mKeyError\u001b[39;00m \u001b[38;5;28;01mas\u001b[39;00m err:\n\u001b[0;32m-> 2897\u001b[0m         \u001b[38;5;28;01mraise\u001b[39;00m \u001b[38;5;167;01mKeyError\u001b[39;00m(key) \u001b[38;5;28;01mfrom\u001b[39;00m \u001b[38;5;21;01merr\u001b[39;00m\n\u001b[1;32m   2899\u001b[0m \u001b[38;5;28;01mif\u001b[39;00m tolerance \u001b[38;5;129;01mis\u001b[39;00m \u001b[38;5;129;01mnot\u001b[39;00m \u001b[38;5;28;01mNone\u001b[39;00m:\n\u001b[1;32m   2900\u001b[0m     tolerance \u001b[38;5;241m=\u001b[39m \u001b[38;5;28mself\u001b[39m\u001b[38;5;241m.\u001b[39m_convert_tolerance(tolerance, np\u001b[38;5;241m.\u001b[39masarray(key))\n",
      "\u001b[0;31mKeyError\u001b[0m: 0"
     ]
    }
   ],
   "source": [
    "# Error because 0 is not a valid index label\n",
    "df.loc[0]"
   ]
  },
  {
   "cell_type": "code",
   "execution_count": null,
   "id": "f055ff3e-cd74-4452-9301-5a5eee41e57c",
   "metadata": {},
   "outputs": [],
   "source": [
    "df.index"
   ]
  },
  {
   "cell_type": "code",
   "execution_count": null,
   "id": "24782a4c-25fe-4f41-a298-f9e69feaa68d",
   "metadata": {},
   "outputs": [],
   "source": [
    "df.loc[11]"
   ]
  },
  {
   "cell_type": "code",
   "execution_count": null,
   "id": "f71dbf19-1b1e-4c38-9fc0-a0caab9e9ee4",
   "metadata": {},
   "outputs": [],
   "source": [
    "# df.loc[row_labels, column_labels]\n",
    "df.loc[:, ['age', 'py-score']]"
   ]
  },
  {
   "cell_type": "code",
   "execution_count": null,
   "id": "758ca977-e5d6-40bb-8320-e22df40fd6d9",
   "metadata": {},
   "outputs": [],
   "source": [
    "df.loc[[x for x in df.index if not x % 2], ['name', 'city']]"
   ]
  },
  {
   "cell_type": "markdown",
   "id": "b5780d8e-adc5-43bb-9de7-b58c96911ff7",
   "metadata": {},
   "source": [
    "### Use the slicing techniques from numpy to access a sub-dataframe"
   ]
  },
  {
   "cell_type": "code",
   "execution_count": null,
   "id": "1a2dc287-d260-4836-9a18-df225012ea29",
   "metadata": {},
   "outputs": [],
   "source": [
    "df.iloc[0]"
   ]
  },
  {
   "cell_type": "code",
   "execution_count": null,
   "id": "00b6fa64-a7d3-471f-a567-61280fc85025",
   "metadata": {},
   "outputs": [],
   "source": [
    "df.iloc[0, [0,2]]"
   ]
  },
  {
   "cell_type": "code",
   "execution_count": null,
   "id": "b3685c22-fc37-408a-822c-d7feecba240a",
   "metadata": {},
   "outputs": [],
   "source": [
    "df.iloc[[0, 2], :]"
   ]
  },
  {
   "cell_type": "code",
   "execution_count": null,
   "id": "6ed935ce-ece0-42d5-a054-c6b5b879f48a",
   "metadata": {},
   "outputs": [],
   "source": [
    "df.iloc[:,[0, 3]]"
   ]
  },
  {
   "cell_type": "markdown",
   "id": "060d8058-e31a-4dd9-af05-7313881aca86",
   "metadata": {},
   "source": [
    "### Accessing single values from dataframes"
   ]
  },
  {
   "cell_type": "code",
   "execution_count": null,
   "id": "1dc208ac-43c5-4dce-802a-4d0c52f1c0fe",
   "metadata": {},
   "outputs": [],
   "source": [
    "df.loc[12, 'city']"
   ]
  },
  {
   "cell_type": "markdown",
   "id": "f964de06-2798-4060-a36a-f5191f7e22ac",
   "metadata": {},
   "source": [
    "Get individual elements with .at and .iat accessors methods"
   ]
  },
  {
   "cell_type": "code",
   "execution_count": null,
   "id": "99be1a96-8afe-4e48-8c8a-c98f21b41fa0",
   "metadata": {},
   "outputs": [],
   "source": [
    "df.at[12, 'city']"
   ]
  },
  {
   "cell_type": "code",
   "execution_count": null,
   "id": "a473eb1a-7e9e-4bdd-830a-c26f85029da2",
   "metadata": {},
   "outputs": [],
   "source": [
    "df.iat[2, 1]"
   ]
  },
  {
   "cell_type": "markdown",
   "id": "04ad035f-82ed-4ab3-82c8-004e4065273c",
   "metadata": {},
   "source": [
    "### Modifying values"
   ]
  },
  {
   "cell_type": "code",
   "execution_count": null,
   "id": "bd6e5b15-f285-46f2-97f7-c3838fed235c",
   "metadata": {},
   "outputs": [],
   "source": [
    "df.loc[:13, 'py-score'] = [40, 50 , 60 , 70]\n",
    "df.loc[14:, 'py-score'] = 0"
   ]
  },
  {
   "cell_type": "code",
   "execution_count": null,
   "id": "66d1b608-4cff-434c-9ab6-121e27634688",
   "metadata": {},
   "outputs": [],
   "source": [
    "df"
   ]
  },
  {
   "cell_type": "code",
   "execution_count": null,
   "id": "66c88796-2727-49c9-b35e-62878d1c3acb",
   "metadata": {},
   "outputs": [],
   "source": [
    "df.iloc[:, -1] = np.linspace(20, 50, len(df))"
   ]
  },
  {
   "cell_type": "code",
   "execution_count": null,
   "id": "a4b0d450-f380-42fd-b606-fcdf76f42a61",
   "metadata": {},
   "outputs": [],
   "source": [
    "df"
   ]
  },
  {
   "cell_type": "code",
   "execution_count": null,
   "id": "0c7b5e6f-5d67-452c-b576-4285ce0c02be",
   "metadata": {},
   "outputs": [],
   "source": [
    "old_row = df.iloc[-1]"
   ]
  },
  {
   "cell_type": "code",
   "execution_count": null,
   "id": "4a9ecc9b-c753-497c-bccd-4c78f92d226e",
   "metadata": {},
   "outputs": [],
   "source": [
    "df.loc[16]"
   ]
  },
  {
   "cell_type": "code",
   "execution_count": null,
   "id": "6e660adc-4382-4ba9-bb24-8e2339f8a2ae",
   "metadata": {},
   "outputs": [],
   "source": [
    "old_row"
   ]
  },
  {
   "cell_type": "code",
   "execution_count": null,
   "id": "3ff45872-5e20-438c-ad9c-33ad05667849",
   "metadata": {},
   "outputs": [],
   "source": [
    "df.loc[16] = ['Jack', 'Chicago', 29, 70]"
   ]
  },
  {
   "cell_type": "code",
   "execution_count": null,
   "id": "98146cf6-8830-4440-b806-77dc9c846eed",
   "metadata": {},
   "outputs": [],
   "source": [
    "df"
   ]
  },
  {
   "cell_type": "code",
   "execution_count": null,
   "id": "3b10a137-5dc8-480c-818b-1b7e54660bd3",
   "metadata": {},
   "outputs": [],
   "source": [
    "df.loc[16] = old_row"
   ]
  },
  {
   "cell_type": "code",
   "execution_count": null,
   "id": "c1627f0f-bfa1-469b-9180-aacb5355faac",
   "metadata": {},
   "outputs": [],
   "source": [
    "df"
   ]
  },
  {
   "cell_type": "code",
   "execution_count": null,
   "id": "3d1dc524-55a2-46e3-96bf-72ff1de50f01",
   "metadata": {},
   "outputs": [],
   "source": [
    "df.loc[11, 'city'] = 'Ottawa'"
   ]
  },
  {
   "cell_type": "code",
   "execution_count": null,
   "id": "91485099-450e-42ac-aa4b-bb093f689e59",
   "metadata": {},
   "outputs": [],
   "source": [
    "df"
   ]
  },
  {
   "cell_type": "markdown",
   "id": "ba62bf29-6cbd-4fd7-b5f4-71c93e1b1f41",
   "metadata": {},
   "source": [
    "### Inserting and deleting rows"
   ]
  },
  {
   "cell_type": "code",
   "execution_count": null,
   "id": "029f3c7d-4fb7-41d5-a75d-460d24384146",
   "metadata": {},
   "outputs": [],
   "source": [
    "type(df)"
   ]
  },
  {
   "cell_type": "code",
   "execution_count": null,
   "id": "1ae20db7-0593-48f2-aab4-1495d5ae229c",
   "metadata": {},
   "outputs": [],
   "source": [
    "type(df.loc[16])"
   ]
  },
  {
   "cell_type": "code",
   "execution_count": null,
   "id": "904fbfed-3d15-44e9-a611-22c63b506875",
   "metadata": {},
   "outputs": [],
   "source": [
    "df.loc[16].name"
   ]
  },
  {
   "cell_type": "code",
   "execution_count": null,
   "id": "d03e1082-6e20-4a54-9bd6-4db1a94fcf2c",
   "metadata": {},
   "outputs": [],
   "source": [
    "john = pd.Series(data = ['John', 'Boston', 34, 79], index=df.columns, name = 17)"
   ]
  },
  {
   "cell_type": "code",
   "execution_count": null,
   "id": "3c3b00d2-d08f-4b4f-9388-edb1d626983e",
   "metadata": {},
   "outputs": [],
   "source": [
    "john"
   ]
  },
  {
   "cell_type": "code",
   "execution_count": null,
   "id": "415ef83c-a6e0-4bd5-9483-d20e70c6aff2",
   "metadata": {},
   "outputs": [],
   "source": [
    "df = df.append(john)"
   ]
  },
  {
   "cell_type": "code",
   "execution_count": null,
   "id": "4572b692-438a-44dc-a292-142ab4aace10",
   "metadata": {},
   "outputs": [],
   "source": [
    "df"
   ]
  },
  {
   "cell_type": "code",
   "execution_count": null,
   "id": "7ad6d5e7-9bdc-43e7-b04d-cbe7a075c20e",
   "metadata": {},
   "outputs": [],
   "source": [
    "df.drop(labels = [17], inplace=True)"
   ]
  },
  {
   "cell_type": "code",
   "execution_count": null,
   "id": "06a5aac9-4bf3-4f50-8b1b-09a3b8fedb8d",
   "metadata": {},
   "outputs": [],
   "source": [
    "df"
   ]
  },
  {
   "cell_type": "code",
   "execution_count": null,
   "id": "82ee4067-b298-4d03-bddb-f12fd8fc25fa",
   "metadata": {},
   "outputs": [],
   "source": [
    "# dir(df)"
   ]
  },
  {
   "cell_type": "markdown",
   "id": "b0af516a-101a-4940-b70a-7c658d23c547",
   "metadata": {},
   "source": [
    "### Inserting and deleting columns"
   ]
  },
  {
   "cell_type": "code",
   "execution_count": null,
   "id": "9b690d94-5c9f-415a-ba93-91898cfcd4fc",
   "metadata": {},
   "outputs": [],
   "source": [
    "df['js-score'] = [71.0, 95.0, 74, 81.0, 56.0, 83.0, 49.0]"
   ]
  },
  {
   "cell_type": "code",
   "execution_count": null,
   "id": "13ece7d7-31f5-4b37-ae71-bde8ba18d12d",
   "metadata": {},
   "outputs": [],
   "source": [
    "df"
   ]
  },
  {
   "cell_type": "code",
   "execution_count": null,
   "id": "151249db-3547-4571-89b0-dba5ef33bedf",
   "metadata": {},
   "outputs": [],
   "source": [
    "df['total-score'] = 0.0"
   ]
  },
  {
   "cell_type": "code",
   "execution_count": null,
   "id": "7b06e49d-5146-45cf-a030-42b2ef3c575c",
   "metadata": {},
   "outputs": [],
   "source": [
    "df"
   ]
  },
  {
   "cell_type": "code",
   "execution_count": null,
   "id": "f4ed65ca-edbd-4276-ad60-9625f39588a3",
   "metadata": {},
   "outputs": [],
   "source": [
    "df.insert(loc=4,  column = 'django-score', value = [71.0, 95.0, 74, 81.0, 56.0, 83.0, 49.0])\n",
    "df"
   ]
  },
  {
   "cell_type": "code",
   "execution_count": null,
   "id": "02aefd4d-ae72-46cd-874c-f3858fd85136",
   "metadata": {},
   "outputs": [],
   "source": [
    "del df['total-score']\n",
    "df"
   ]
  },
  {
   "cell_type": "code",
   "execution_count": null,
   "id": "a9c7ad96-c0cb-434d-a70d-75018943181c",
   "metadata": {},
   "outputs": [],
   "source": [
    "df.drop(labels=['age'], axis=1, inplace=True)\n",
    "df"
   ]
  },
  {
   "cell_type": "markdown",
   "id": "36f6f351-165c-4e70-a552-27e5877d49a6",
   "metadata": {},
   "source": [
    "## Creating columns with Arithmetic Operations and NumPy"
   ]
  },
  {
   "cell_type": "markdown",
   "id": "41438b46-4c17-4acc-9eed-cdfde704f7a0",
   "metadata": {},
   "source": [
    "### Basic arithmetic"
   ]
  },
  {
   "cell_type": "code",
   "execution_count": null,
   "id": "59e66b99-be41-4a7c-8c39-a8c86114f376",
   "metadata": {},
   "outputs": [],
   "source": [
    "df['total'] = (0.3 * df['js-score'] + 0.4 * df['py-score'] + 0.3 * df['django-score'])\n",
    "df"
   ]
  },
  {
   "cell_type": "markdown",
   "id": "20cf1daf-5927-4d49-b61c-869cde7b8c5e",
   "metadata": {},
   "source": [
    "### Using a dataframe of weights with a matched index"
   ]
  },
  {
   "cell_type": "markdown",
   "id": "85dd4fef-4bc3-4cab-821f-d2414e48109e",
   "metadata": {},
   "source": [
    "Alternative method using a dataframe of weights with an index that is exactly the same as the column labels"
   ]
  },
  {
   "cell_type": "code",
   "execution_count": null,
   "id": "c48e1878-9301-49c5-90e5-f6b5b9d70daf",
   "metadata": {},
   "outputs": [],
   "source": [
    "wgts = pd.Series(data=[0.4, 0.3, 0.3], index=['py-score', 'django-score', 'js-score'])\n",
    "wgts"
   ]
  },
  {
   "cell_type": "code",
   "execution_count": null,
   "id": "5f842fcd-6df2-431d-93a1-162a8ba8db73",
   "metadata": {},
   "outputs": [],
   "source": [
    "df[wgts.index] * wgts"
   ]
  },
  {
   "cell_type": "markdown",
   "id": "ce16834a-7dbd-4c2b-b656-fc4c4c271b91",
   "metadata": {},
   "source": [
    "### Using the np.sum"
   ]
  },
  {
   "cell_type": "code",
   "execution_count": null,
   "id": "b2ffbb7b-9d91-41d3-a060-498331e84f0b",
   "metadata": {},
   "outputs": [],
   "source": [
    "import numpy as np\n",
    "# Fix a row and sum along the columns\n",
    "np.sum(df[wgts.index] * wgts, axis=1)"
   ]
  },
  {
   "cell_type": "markdown",
   "id": "487d44e8-bbc3-43b2-9568-46a1e1ec4eb4",
   "metadata": {},
   "source": [
    "## Sorting DataFrames"
   ]
  },
  {
   "cell_type": "code",
   "execution_count": null,
   "id": "30ffd1ce-6890-4cc7-9f72-3a342ec43337",
   "metadata": {},
   "outputs": [],
   "source": [
    "df.sort_values('js-score')"
   ]
  },
  {
   "cell_type": "code",
   "execution_count": null,
   "id": "678d3a8a-d347-4e77-bfa7-eb9c5e2e7b74",
   "metadata": {},
   "outputs": [],
   "source": [
    "df.sort_values(by=['js-score', 'py-score'], ascending=[False, False], inplace=True)\n",
    "df"
   ]
  },
  {
   "cell_type": "markdown",
   "id": "d994d57f-1d2f-47c7-9718-60acd9154f6a",
   "metadata": {},
   "source": [
    "- by: string or list of strings\n",
    "- axis: 0 or 'index', 1 or 'columns'\n",
    "- ascending: bool or list of bool\n",
    "- inplace:bool"
   ]
  },
  {
   "cell_type": "code",
   "execution_count": null,
   "id": "afff6a47-25c1-402e-80d3-a6fd442db54a",
   "metadata": {},
   "outputs": [],
   "source": [
    "df.sort_index(inplace=True)\n",
    "df"
   ]
  },
  {
   "cell_type": "markdown",
   "id": "feedc886-5a09-4c99-9f10-25f3874c8ea6",
   "metadata": {},
   "source": [
    "## Filtering Data"
   ]
  },
  {
   "cell_type": "code",
   "execution_count": null,
   "id": "cd4a3aa3-ea1e-4792-8408-6eb3e22af1e9",
   "metadata": {},
   "outputs": [],
   "source": [
    "df"
   ]
  },
  {
   "cell_type": "markdown",
   "id": "7a28122e-6876-40f0-957c-4a5e3be7d19f",
   "metadata": {},
   "source": [
    "The & | operators can only operate on boolean"
   ]
  },
  {
   "cell_type": "code",
   "execution_count": null,
   "id": "6715a06d-96e5-487e-a1c9-b5440ada2108",
   "metadata": {
    "tags": []
   },
   "outputs": [],
   "source": [
    "filter = (df['py-score'] >= 40) | (df['js-score'] >= 80)"
   ]
  },
  {
   "cell_type": "markdown",
   "id": "817c07b2-c412-4c7e-a3c3-4e1fe0baa094",
   "metadata": {},
   "source": [
    "### Use a boolean series as a selector in the DataFrame"
   ]
  },
  {
   "cell_type": "code",
   "execution_count": null,
   "id": "17faf207-ae84-4b7b-8a7d-7143b0d6c4e6",
   "metadata": {},
   "outputs": [],
   "source": [
    "df[filter]"
   ]
  },
  {
   "cell_type": "markdown",
   "id": "024c31b6-5195-4a35-909b-e869519ba777",
   "metadata": {},
   "source": [
    "### Filtering with .where() and .filter()"
   ]
  },
  {
   "cell_type": "markdown",
   "id": "76536cb9-c6b4-422f-bb41-a7277ed14ff5",
   "metadata": {},
   "source": [
    "Replace values were condition is False"
   ]
  },
  {
   "cell_type": "code",
   "execution_count": null,
   "id": "d116d7bd-921c-438c-b2dd-c2b2b61f81cc",
   "metadata": {},
   "outputs": [],
   "source": [
    "df['js-score'].where(cond=df['js-score'] >= 80, other=0.0)"
   ]
  },
  {
   "cell_type": "code",
   "execution_count": null,
   "id": "b262248c-143f-4f66-b922-3426c465389a",
   "metadata": {},
   "outputs": [],
   "source": [
    "df.filter(items=['py-score', 'js-score', 'django-score'])"
   ]
  },
  {
   "cell_type": "code",
   "execution_count": null,
   "id": "28b68c2c-fbf4-4a4b-bbb0-5b3580110700",
   "metadata": {},
   "outputs": [],
   "source": [
    "df.filter(like='score', axis=1)"
   ]
  },
  {
   "cell_type": "code",
   "execution_count": null,
   "id": "0345b59d-d5a7-411d-a0ae-89094778b5d2",
   "metadata": {},
   "outputs": [],
   "source": [
    "df.filter(regex='score')"
   ]
  },
  {
   "cell_type": "markdown",
   "id": "338acf7c-4380-40d0-976c-0ebac0e206ca",
   "metadata": {},
   "source": [
    "- Comparison operators: >, >=, <, <=, ==, !=\n",
    "- Logical operators: NOT (~), AND (&), OR (|), XOR(^)\n",
    "- .where method - any False value is replaced with a new default\n",
    "- .filter method - filter columns using regex patterns"
   ]
  },
  {
   "cell_type": "markdown",
   "id": "1cfea936-dd91-449c-82d7-daa02b811b60",
   "metadata": {},
   "source": [
    "## Using Statistical Methods of DataFrames"
   ]
  },
  {
   "cell_type": "code",
   "execution_count": null,
   "id": "0606cf38-a1e8-4921-8626-db423ebb012d",
   "metadata": {},
   "outputs": [],
   "source": [
    "df.describe()"
   ]
  },
  {
   "cell_type": "code",
   "execution_count": null,
   "id": "1d5d4328-ceb2-4b84-af90-af10d929a40a",
   "metadata": {},
   "outputs": [],
   "source": [
    "df['py-score'].mean()"
   ]
  },
  {
   "cell_type": "code",
   "execution_count": null,
   "id": "0a7d6479-8c68-41f4-8852-d823d728392d",
   "metadata": {},
   "outputs": [],
   "source": [
    "df['py-score'].std()"
   ]
  },
  {
   "cell_type": "code",
   "execution_count": null,
   "id": "ad6fea9e-f74e-4aee-94ca-6a9955cffac6",
   "metadata": {},
   "outputs": [],
   "source": [
    "df.mean()"
   ]
  },
  {
   "cell_type": "markdown",
   "id": "31b4eb84-069e-4c2a-a687-8a8b872efa85",
   "metadata": {},
   "source": [
    "## Handling Missing Data"
   ]
  },
  {
   "cell_type": "code",
   "execution_count": null,
   "id": "04cd54fa-8202-44e0-900b-d436f8f7aa92",
   "metadata": {},
   "outputs": [],
   "source": [
    "df_ = pd.DataFrame({'x':[1, 2, np.nan, 4]})"
   ]
  },
  {
   "cell_type": "code",
   "execution_count": null,
   "id": "7adaf8aa-57ad-42b0-baed-a173054ec7cd",
   "metadata": {},
   "outputs": [],
   "source": [
    "df_"
   ]
  },
  {
   "cell_type": "code",
   "execution_count": null,
   "id": "820c0c4b-49dd-4e57-a1cf-c33317c2f6e6",
   "metadata": {},
   "outputs": [],
   "source": [
    "df_ = pd.DataFrame({'x':[1, 2, float('nan'), 4]})"
   ]
  },
  {
   "cell_type": "code",
   "execution_count": null,
   "id": "fac630d8-78d2-4b11-93fa-33ab22061646",
   "metadata": {},
   "outputs": [],
   "source": [
    "df_"
   ]
  },
  {
   "cell_type": "code",
   "execution_count": null,
   "id": "bbc889e0-683f-4095-a96e-00fbfb81d967",
   "metadata": {},
   "outputs": [],
   "source": [
    "import math\n",
    "df_ = pd.DataFrame({'x':[1, 2, math.nan, 4]})\n",
    "df_"
   ]
  },
  {
   "cell_type": "markdown",
   "id": "65d5646f-6c70-4b38-9dba-0d7701803cf9",
   "metadata": {},
   "source": [
    "Statistical computation ignores NaN values by default"
   ]
  },
  {
   "cell_type": "code",
   "execution_count": null,
   "id": "cbe1e35c-5317-4e63-95e3-88bb7219bbe4",
   "metadata": {},
   "outputs": [],
   "source": [
    "df_.mean()"
   ]
  },
  {
   "cell_type": "code",
   "execution_count": null,
   "id": "0584e46c-9b90-4dcd-a814-2ef4f1de710c",
   "metadata": {},
   "outputs": [],
   "source": [
    "df_.mean(skipna=False)"
   ]
  },
  {
   "cell_type": "code",
   "execution_count": null,
   "id": "fc2dca36-8b65-4b5b-89d8-fcccda93d65b",
   "metadata": {},
   "outputs": [],
   "source": [
    "1 + 2 + np.nan"
   ]
  },
  {
   "cell_type": "code",
   "execution_count": null,
   "id": "cb253fa3-1eb7-4832-9ad9-346b6fc8e35d",
   "metadata": {},
   "outputs": [],
   "source": [
    "df_.fillna(value=0, inplace=False)"
   ]
  },
  {
   "cell_type": "code",
   "execution_count": null,
   "id": "856fcc03-a6c9-4a89-bf7e-bf5f4c4d11b7",
   "metadata": {},
   "outputs": [],
   "source": [
    "df_"
   ]
  },
  {
   "cell_type": "markdown",
   "id": "bc428a32-c7b0-45b7-a322-669345931db1",
   "metadata": {},
   "source": [
    "### Forward and back fill"
   ]
  },
  {
   "cell_type": "code",
   "execution_count": null,
   "id": "e6163038-be48-42fc-aa0a-0433377c34a4",
   "metadata": {},
   "outputs": [],
   "source": [
    "df_.fillna(method='ffill')"
   ]
  },
  {
   "cell_type": "code",
   "execution_count": null,
   "id": "9368ed6c-fd46-4dd4-bb07-71bb2957fb09",
   "metadata": {},
   "outputs": [],
   "source": [
    "df_.fillna(method='bfill')"
   ]
  },
  {
   "cell_type": "markdown",
   "id": "608d98b1-f2f1-4720-9a92-53227ca8a435",
   "metadata": {},
   "source": [
    "### Interpolate to fill missing values"
   ]
  },
  {
   "cell_type": "code",
   "execution_count": null,
   "id": "71869c53-3b92-4755-b613-6ff62125bfbe",
   "metadata": {},
   "outputs": [],
   "source": [
    "df_.interpolate()"
   ]
  },
  {
   "cell_type": "markdown",
   "id": "9754e42e-f38e-4cdb-a256-18a368a49008",
   "metadata": {},
   "source": [
    "### Drop rows with any NaNs"
   ]
  },
  {
   "cell_type": "code",
   "execution_count": null,
   "id": "4b5b241f-5b0f-4be0-8756-7befb9f0d196",
   "metadata": {},
   "outputs": [],
   "source": [
    "df_.dropna(inplace=True)"
   ]
  },
  {
   "cell_type": "code",
   "execution_count": null,
   "id": "fcb582ca-b03a-49cf-b1c1-badf38499f11",
   "metadata": {},
   "outputs": [],
   "source": [
    "df_"
   ]
  },
  {
   "cell_type": "markdown",
   "id": "289ac1f5-c33a-438f-b070-ddc70ce79f9c",
   "metadata": {},
   "source": [
    "## Iterating over rows and columns in DataFrames"
   ]
  },
  {
   "cell_type": "code",
   "execution_count": null,
   "id": "e58bf11a-08d5-47d5-8d55-68fb20016b88",
   "metadata": {},
   "outputs": [],
   "source": [
    "df"
   ]
  },
  {
   "cell_type": "code",
   "execution_count": null,
   "id": "ae25d34a-0408-4251-8ba3-857d647ee4c2",
   "metadata": {},
   "outputs": [],
   "source": [
    "col_label, col = next(df.items())"
   ]
  },
  {
   "cell_type": "code",
   "execution_count": null,
   "id": "5bccabe2-98c3-4af3-b3ad-ad02084f4265",
   "metadata": {},
   "outputs": [],
   "source": [
    "col_label"
   ]
  },
  {
   "cell_type": "code",
   "execution_count": null,
   "id": "61a76096-fffb-4a83-a135-9a85c67175fb",
   "metadata": {},
   "outputs": [],
   "source": [
    "col"
   ]
  },
  {
   "cell_type": "markdown",
   "id": "8c53007b-4b7a-4b27-9a78-ecd8a4d159c3",
   "metadata": {},
   "source": [
    "### .items method\n",
    "- .items method creates a generator\n",
    "- the generator yields a tuple\n",
    "- the first element of the tuple is the column label\n",
    "- the second element of the tuple is pandas series that is the column"
   ]
  },
  {
   "cell_type": "code",
   "execution_count": null,
   "id": "b15134dc-85f4-437d-832d-05ecac8a7d92",
   "metadata": {},
   "outputs": [],
   "source": [
    "for col_label, col in df.items():\n",
    "    print(col_label, col, sep='\\n', end='\\n\\n')"
   ]
  },
  {
   "cell_type": "markdown",
   "id": "d7669628-c333-404f-905a-b4d859e96efd",
   "metadata": {},
   "source": [
    "### .iteritems method to iterate over the columns"
   ]
  },
  {
   "cell_type": "code",
   "execution_count": null,
   "id": "725b7adf-79bf-4253-9319-3357abb177af",
   "metadata": {},
   "outputs": [],
   "source": [
    "for col_label, col in df.iteritems():\n",
    "    print(col_label, col, sep='\\n', end='\\n\\n')"
   ]
  },
  {
   "cell_type": "markdown",
   "id": "d20ed066-c868-4efe-b058-7e2e6aee8619",
   "metadata": {},
   "source": [
    "### .iterrows method to iterate over the rows"
   ]
  },
  {
   "cell_type": "code",
   "execution_count": null,
   "id": "fa35b389-7c34-4bb0-8f83-b26ae17af69e",
   "metadata": {},
   "outputs": [],
   "source": [
    "for row_label, row in df.iterrows():\n",
    "    print(row_label, row, sep='\\n', end='\\n\\n')"
   ]
  },
  {
   "cell_type": "markdown",
   "id": "e07e7b87-cea9-4244-97c5-6a125ba3731f",
   "metadata": {},
   "source": [
    "### .itertuples method to iterate over the rows"
   ]
  },
  {
   "cell_type": "code",
   "execution_count": null,
   "id": "05873f9b-bf2d-434c-be8d-27c923d82685",
   "metadata": {},
   "outputs": [],
   "source": [
    "for row in df.itertuples(index=False, name='JobCandidate'):\n",
    "    print(f\"Name: {row.name}, City: {row.city}, Total: {row.total}\")"
   ]
  },
  {
   "cell_type": "markdown",
   "id": "9757d2e0-8213-45fe-affb-09599a6b81d9",
   "metadata": {},
   "source": [
    "Named tuples"
   ]
  },
  {
   "cell_type": "code",
   "execution_count": null,
   "id": "68b4fe6d-97df-418c-9655-0857ff06d0ac",
   "metadata": {},
   "outputs": [],
   "source": [
    "for row in df.itertuples(index=False, name='JobCandidate'):\n",
    "    # print(f\"Name: {row.name}, City: {row.city}, Total: {row.total}\")\n",
    "    print(row)"
   ]
  },
  {
   "cell_type": "markdown",
   "id": "bc34ee2e-ebef-4e4e-9f1b-6211cb25315d",
   "metadata": {},
   "source": [
    "## Working with Time Series"
   ]
  },
  {
   "cell_type": "code",
   "execution_count": null,
   "id": "1979548a-aaec-4464-ab7f-0e0962ab53a0",
   "metadata": {},
   "outputs": [],
   "source": [
    "temp_c = [8.0,  7.1,  6.8,  6.4,  6.0,  5.4,  4.8,  5.0,\n",
    "           9.1, 12.8, 15.3, 19.1, 21.2, 22.1, 22.4, 23.1,\n",
    "          21.0, 17.9, 15.5, 14.4, 11.9, 11.0, 10.2,  9.1]"
   ]
  },
  {
   "cell_type": "code",
   "execution_count": null,
   "id": "1fd49465-45ae-4e41-a489-4a4e4c571dc0",
   "metadata": {},
   "outputs": [],
   "source": [
    "dt = pd.date_range(start='2019-10-27 00:00:00', periods=24, freq='H')"
   ]
  },
  {
   "cell_type": "code",
   "execution_count": null,
   "id": "3803fb13-3322-4897-9a5d-1cfda716d235",
   "metadata": {},
   "outputs": [],
   "source": [
    "type(dt)"
   ]
  },
  {
   "cell_type": "code",
   "execution_count": null,
   "id": "3aa4ce68-a3f0-49eb-a0b6-12ae08014f39",
   "metadata": {},
   "outputs": [],
   "source": [
    "dt"
   ]
  },
  {
   "cell_type": "code",
   "execution_count": null,
   "id": "4b1c8a17-0da9-4b78-85d7-f8ae77ed8e54",
   "metadata": {},
   "outputs": [],
   "source": [
    "temp = pd.DataFrame(data={'temp_c':temp_c}, index=dt)"
   ]
  },
  {
   "cell_type": "code",
   "execution_count": null,
   "id": "c4803eb4-9eb9-47ba-87bf-35a057b49247",
   "metadata": {},
   "outputs": [],
   "source": [
    "temp"
   ]
  },
  {
   "cell_type": "markdown",
   "id": "2ef1221b-4d61-400e-9cec-43ce449b4b39",
   "metadata": {},
   "source": [
    "### Slicing a datetime index"
   ]
  },
  {
   "cell_type": "code",
   "execution_count": null,
   "id": "e7571c30-720c-435a-92d0-8c3ca0e928f2",
   "metadata": {},
   "outputs": [],
   "source": [
    "temp['2019-10-27 05':'2019-10-27 15']"
   ]
  },
  {
   "cell_type": "markdown",
   "id": "8c7956f3-ebfd-47d5-be70-76db809ae4ff",
   "metadata": {},
   "source": [
    "### Convert the time index to a different interval with.resample"
   ]
  },
  {
   "cell_type": "markdown",
   "id": "2d565fa2-d602-4cf6-bd3a-af9dafbad061",
   "metadata": {},
   "source": [
    ".resample is grouping by time intervals and applying a summarisation function"
   ]
  },
  {
   "cell_type": "code",
   "execution_count": null,
   "id": "c7ae6f6f-8cac-43dd-a675-6935b2efc5dc",
   "metadata": {},
   "outputs": [],
   "source": [
    "temp.resample(rule='6h').mean()"
   ]
  },
  {
   "cell_type": "code",
   "execution_count": null,
   "id": "1f40c7b6-89fd-4ab3-96fe-8e128d81f731",
   "metadata": {},
   "outputs": [],
   "source": [
    "temp.resample(rule='6h').min()"
   ]
  },
  {
   "cell_type": "markdown",
   "id": "c5088767-2ca9-4a23-b356-ad1cfdb1ed8e",
   "metadata": {},
   "source": [
    "### Rolling window analysis"
   ]
  },
  {
   "cell_type": "markdown",
   "id": "ee77910f-57df-4d2a-88a4-851f42d6281c",
   "metadata": {},
   "source": [
    "Smooth out data using moving averages"
   ]
  },
  {
   "cell_type": "code",
   "execution_count": null,
   "id": "8a2c04b9-da04-487c-b0b1-731da6299249",
   "metadata": {},
   "outputs": [],
   "source": [
    "temp.rolling(window=3).mean()"
   ]
  },
  {
   "cell_type": "markdown",
   "id": "a23fae20-8236-4b93-9555-639c0fd90e6b",
   "metadata": {},
   "source": [
    "The value is assigned to the right hand side of the window by default"
   ]
  },
  {
   "cell_type": "code",
   "execution_count": null,
   "id": "5ffed0b8-63af-46f8-941c-4846ea0b393f",
   "metadata": {},
   "outputs": [],
   "source": [
    "temp.head(3)['temp_c'].mean()"
   ]
  },
  {
   "cell_type": "code",
   "execution_count": null,
   "id": "61cc2476-5b7b-4296-b793-d2e3c3cba0e9",
   "metadata": {},
   "outputs": [],
   "source": [
    "temp.rolling(window=3, center=True).mean()"
   ]
  },
  {
   "cell_type": "markdown",
   "id": "f0b6474c-f792-4e51-9ff3-fbcc182c8df4",
   "metadata": {},
   "source": [
    "## Visualising Data in a pandas DataFrame"
   ]
  },
  {
   "cell_type": "code",
   "execution_count": null,
   "id": "8b3db20f-d166-44bd-8e53-2cc5b40ad069",
   "metadata": {},
   "outputs": [],
   "source": [
    "temp.plot()"
   ]
  },
  {
   "cell_type": "code",
   "execution_count": null,
   "id": "89556fe6-4b8b-4d1e-a943-170d18470324",
   "metadata": {},
   "outputs": [],
   "source": [
    "temp.plot(kind='line', color='g', style='.-', mfc='k', ms=10)"
   ]
  },
  {
   "cell_type": "markdown",
   "id": "ef4b752a-0d14-438e-8055-6e12a7a9462d",
   "metadata": {},
   "source": [
    "### Save figure as png"
   ]
  },
  {
   "cell_type": "code",
   "execution_count": null,
   "id": "eded1205-d0b7-4e7e-9d0a-c28f7c543f97",
   "metadata": {},
   "outputs": [],
   "source": [
    "temp.plot.line(color='g', style='.-', mfc='k', ms=10).get_figure().savefig('temperatures.png')"
   ]
  },
  {
   "cell_type": "code",
   "execution_count": null,
   "id": "e4641de2-d35c-4658-914b-5cf25fc21ef6",
   "metadata": {},
   "outputs": [],
   "source": [
    "df"
   ]
  },
  {
   "cell_type": "code",
   "execution_count": null,
   "id": "b9f23c5c-4bcc-4456-a386-e18b834e71eb",
   "metadata": {},
   "outputs": [],
   "source": [
    "df[['py-score', 'js-score']].plot.hist(bins=4, alpha=0.8)"
   ]
  },
  {
   "cell_type": "code",
   "execution_count": null,
   "id": "b90933be-61f4-4655-9b30-1e0df8340c6c",
   "metadata": {},
   "outputs": [],
   "source": []
  }
 ],
 "metadata": {
  "kernelspec": {
   "display_name": "Python 3 (ipykernel)",
   "language": "python",
   "name": "python3"
  },
  "language_info": {
   "codemirror_mode": {
    "name": "ipython",
    "version": 3
   },
   "file_extension": ".py",
   "mimetype": "text/x-python",
   "name": "python",
   "nbconvert_exporter": "python",
   "pygments_lexer": "ipython3",
   "version": "3.9.10"
  }
 },
 "nbformat": 4,
 "nbformat_minor": 5
}
