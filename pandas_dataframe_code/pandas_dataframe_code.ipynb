{
 "cells": [
  {
   "cell_type": "markdown",
   "id": "numerous-channel",
   "metadata": {},
   "source": [
    "# Introducing the pandas DataFrame"
   ]
  },
  {
   "cell_type": "code",
   "execution_count": 1,
   "id": "japanese-vertex",
   "metadata": {},
   "outputs": [],
   "source": [
    "import pandas as pd"
   ]
  },
  {
   "cell_type": "code",
   "execution_count": 2,
   "id": "allied-creation",
   "metadata": {},
   "outputs": [],
   "source": [
    "data = {\n",
    "    'name': ['Xavier', 'Ann', 'Jana', 'Yi', 'Robin', 'Amal', 'Nori'],\n",
    "    'city': ['Mexico City', 'Toronto', 'Prague', 'Shanghai',\n",
    "             'Manchester', 'Cairo', 'Osaka'],\n",
    "    'age': [41, 28, 33, 34, 38, 31, 37],\n",
    "    'py-score': [88.0, 79.0, 81.0, 80.0, 68.0, 61.0, 84.0]\n",
    "}\n",
    "\n",
    "index = range(101, 108)"
   ]
  },
  {
   "cell_type": "code",
   "execution_count": 9,
   "id": "exempt-garage",
   "metadata": {},
   "outputs": [],
   "source": [
    "df = pd.DataFrame(data,index=index)"
   ]
  },
  {
   "cell_type": "code",
   "execution_count": 10,
   "id": "driving-inspection",
   "metadata": {},
   "outputs": [
    {
     "data": {
      "text/plain": [
       "pandas.core.frame.DataFrame"
      ]
     },
     "execution_count": 10,
     "metadata": {},
     "output_type": "execute_result"
    }
   ],
   "source": [
    "type(df)"
   ]
  },
  {
   "cell_type": "code",
   "execution_count": 11,
   "id": "statistical-shark",
   "metadata": {},
   "outputs": [
    {
     "data": {
      "text/plain": [
       "RangeIndex(start=101, stop=108, step=1)"
      ]
     },
     "execution_count": 11,
     "metadata": {},
     "output_type": "execute_result"
    }
   ],
   "source": [
    "df.index"
   ]
  },
  {
   "cell_type": "code",
   "execution_count": 12,
   "id": "collective-nowhere",
   "metadata": {},
   "outputs": [
    {
     "data": {
      "text/plain": [
       "Index(['name', 'city', 'age', 'py-score'], dtype='object')"
      ]
     },
     "execution_count": 12,
     "metadata": {},
     "output_type": "execute_result"
    }
   ],
   "source": [
    "df.columns"
   ]
  },
  {
   "cell_type": "code",
   "execution_count": 13,
   "id": "based-display",
   "metadata": {},
   "outputs": [
    {
     "data": {
      "text/plain": [
       "pandas.core.indexes.base.Index"
      ]
     },
     "execution_count": 13,
     "metadata": {},
     "output_type": "execute_result"
    }
   ],
   "source": [
    "type(df.columns)"
   ]
  },
  {
   "cell_type": "code",
   "execution_count": 14,
   "id": "broad-referral",
   "metadata": {},
   "outputs": [
    {
     "data": {
      "text/html": [
       "<div>\n",
       "<style scoped>\n",
       "    .dataframe tbody tr th:only-of-type {\n",
       "        vertical-align: middle;\n",
       "    }\n",
       "\n",
       "    .dataframe tbody tr th {\n",
       "        vertical-align: top;\n",
       "    }\n",
       "\n",
       "    .dataframe thead th {\n",
       "        text-align: right;\n",
       "    }\n",
       "</style>\n",
       "<table border=\"1\" class=\"dataframe\">\n",
       "  <thead>\n",
       "    <tr style=\"text-align: right;\">\n",
       "      <th></th>\n",
       "      <th>name</th>\n",
       "      <th>city</th>\n",
       "      <th>age</th>\n",
       "      <th>py-score</th>\n",
       "    </tr>\n",
       "  </thead>\n",
       "  <tbody>\n",
       "    <tr>\n",
       "      <th>101</th>\n",
       "      <td>Xavier</td>\n",
       "      <td>Mexico City</td>\n",
       "      <td>41</td>\n",
       "      <td>88.0</td>\n",
       "    </tr>\n",
       "    <tr>\n",
       "      <th>102</th>\n",
       "      <td>Ann</td>\n",
       "      <td>Toronto</td>\n",
       "      <td>28</td>\n",
       "      <td>79.0</td>\n",
       "    </tr>\n",
       "    <tr>\n",
       "      <th>103</th>\n",
       "      <td>Jana</td>\n",
       "      <td>Prague</td>\n",
       "      <td>33</td>\n",
       "      <td>81.0</td>\n",
       "    </tr>\n",
       "    <tr>\n",
       "      <th>104</th>\n",
       "      <td>Yi</td>\n",
       "      <td>Shanghai</td>\n",
       "      <td>34</td>\n",
       "      <td>80.0</td>\n",
       "    </tr>\n",
       "    <tr>\n",
       "      <th>105</th>\n",
       "      <td>Robin</td>\n",
       "      <td>Manchester</td>\n",
       "      <td>38</td>\n",
       "      <td>68.0</td>\n",
       "    </tr>\n",
       "  </tbody>\n",
       "</table>\n",
       "</div>"
      ],
      "text/plain": [
       "       name         city  age  py-score\n",
       "101  Xavier  Mexico City   41      88.0\n",
       "102     Ann      Toronto   28      79.0\n",
       "103    Jana       Prague   33      81.0\n",
       "104      Yi     Shanghai   34      80.0\n",
       "105   Robin   Manchester   38      68.0"
      ]
     },
     "execution_count": 14,
     "metadata": {},
     "output_type": "execute_result"
    }
   ],
   "source": [
    "df.head()"
   ]
  },
  {
   "cell_type": "code",
   "execution_count": 15,
   "id": "chicken-function",
   "metadata": {},
   "outputs": [
    {
     "data": {
      "text/html": [
       "<div>\n",
       "<style scoped>\n",
       "    .dataframe tbody tr th:only-of-type {\n",
       "        vertical-align: middle;\n",
       "    }\n",
       "\n",
       "    .dataframe tbody tr th {\n",
       "        vertical-align: top;\n",
       "    }\n",
       "\n",
       "    .dataframe thead th {\n",
       "        text-align: right;\n",
       "    }\n",
       "</style>\n",
       "<table border=\"1\" class=\"dataframe\">\n",
       "  <thead>\n",
       "    <tr style=\"text-align: right;\">\n",
       "      <th></th>\n",
       "      <th>name</th>\n",
       "      <th>city</th>\n",
       "      <th>age</th>\n",
       "      <th>py-score</th>\n",
       "    </tr>\n",
       "  </thead>\n",
       "  <tbody>\n",
       "    <tr>\n",
       "      <th>103</th>\n",
       "      <td>Jana</td>\n",
       "      <td>Prague</td>\n",
       "      <td>33</td>\n",
       "      <td>81.0</td>\n",
       "    </tr>\n",
       "    <tr>\n",
       "      <th>104</th>\n",
       "      <td>Yi</td>\n",
       "      <td>Shanghai</td>\n",
       "      <td>34</td>\n",
       "      <td>80.0</td>\n",
       "    </tr>\n",
       "    <tr>\n",
       "      <th>105</th>\n",
       "      <td>Robin</td>\n",
       "      <td>Manchester</td>\n",
       "      <td>38</td>\n",
       "      <td>68.0</td>\n",
       "    </tr>\n",
       "    <tr>\n",
       "      <th>106</th>\n",
       "      <td>Amal</td>\n",
       "      <td>Cairo</td>\n",
       "      <td>31</td>\n",
       "      <td>61.0</td>\n",
       "    </tr>\n",
       "    <tr>\n",
       "      <th>107</th>\n",
       "      <td>Nori</td>\n",
       "      <td>Osaka</td>\n",
       "      <td>37</td>\n",
       "      <td>84.0</td>\n",
       "    </tr>\n",
       "  </tbody>\n",
       "</table>\n",
       "</div>"
      ],
      "text/plain": [
       "      name        city  age  py-score\n",
       "103   Jana      Prague   33      81.0\n",
       "104     Yi    Shanghai   34      80.0\n",
       "105  Robin  Manchester   38      68.0\n",
       "106   Amal       Cairo   31      61.0\n",
       "107   Nori       Osaka   37      84.0"
      ]
     },
     "execution_count": 15,
     "metadata": {},
     "output_type": "execute_result"
    }
   ],
   "source": [
    "df.tail()"
   ]
  },
  {
   "cell_type": "code",
   "execution_count": 16,
   "id": "bottom-farmer",
   "metadata": {},
   "outputs": [
    {
     "data": {
      "text/html": [
       "<div>\n",
       "<style scoped>\n",
       "    .dataframe tbody tr th:only-of-type {\n",
       "        vertical-align: middle;\n",
       "    }\n",
       "\n",
       "    .dataframe tbody tr th {\n",
       "        vertical-align: top;\n",
       "    }\n",
       "\n",
       "    .dataframe thead th {\n",
       "        text-align: right;\n",
       "    }\n",
       "</style>\n",
       "<table border=\"1\" class=\"dataframe\">\n",
       "  <thead>\n",
       "    <tr style=\"text-align: right;\">\n",
       "      <th></th>\n",
       "      <th>name</th>\n",
       "      <th>city</th>\n",
       "      <th>age</th>\n",
       "      <th>py-score</th>\n",
       "    </tr>\n",
       "  </thead>\n",
       "  <tbody>\n",
       "    <tr>\n",
       "      <th>101</th>\n",
       "      <td>Xavier</td>\n",
       "      <td>Mexico City</td>\n",
       "      <td>41</td>\n",
       "      <td>88.0</td>\n",
       "    </tr>\n",
       "    <tr>\n",
       "      <th>102</th>\n",
       "      <td>Ann</td>\n",
       "      <td>Toronto</td>\n",
       "      <td>28</td>\n",
       "      <td>79.0</td>\n",
       "    </tr>\n",
       "    <tr>\n",
       "      <th>103</th>\n",
       "      <td>Jana</td>\n",
       "      <td>Prague</td>\n",
       "      <td>33</td>\n",
       "      <td>81.0</td>\n",
       "    </tr>\n",
       "  </tbody>\n",
       "</table>\n",
       "</div>"
      ],
      "text/plain": [
       "       name         city  age  py-score\n",
       "101  Xavier  Mexico City   41      88.0\n",
       "102     Ann      Toronto   28      79.0\n",
       "103    Jana       Prague   33      81.0"
      ]
     },
     "execution_count": 16,
     "metadata": {},
     "output_type": "execute_result"
    }
   ],
   "source": [
    "df.head(3)"
   ]
  },
  {
   "cell_type": "code",
   "execution_count": null,
   "id": "proud-public",
   "metadata": {},
   "outputs": [],
   "source": [
    "df"
   ]
  },
  {
   "cell_type": "code",
   "execution_count": null,
   "id": "first-retailer",
   "metadata": {},
   "outputs": [],
   "source": [
    "df['city']"
   ]
  },
  {
   "cell_type": "code",
   "execution_count": null,
   "id": "satisfied-lawrence",
   "metadata": {},
   "outputs": [],
   "source": [
    "type(df['city'])"
   ]
  },
  {
   "cell_type": "code",
   "execution_count": null,
   "id": "technical-playlist",
   "metadata": {},
   "outputs": [],
   "source": [
    "cities = df['city']"
   ]
  },
  {
   "cell_type": "code",
   "execution_count": null,
   "id": "valid-dominant",
   "metadata": {},
   "outputs": [],
   "source": [
    "cities"
   ]
  },
  {
   "cell_type": "code",
   "execution_count": null,
   "id": "above-drilling",
   "metadata": {},
   "outputs": [],
   "source": [
    "cities.index"
   ]
  },
  {
   "cell_type": "code",
   "execution_count": null,
   "id": "figured-silly",
   "metadata": {},
   "outputs": [],
   "source": [
    "df.age"
   ]
  },
  {
   "cell_type": "code",
   "execution_count": null,
   "id": "joined-bidding",
   "metadata": {},
   "outputs": [],
   "source": [
    "df['py-score']"
   ]
  },
  {
   "cell_type": "code",
   "execution_count": null,
   "id": "electoral-chinese",
   "metadata": {},
   "outputs": [],
   "source": [
    "df.index"
   ]
  },
  {
   "cell_type": "code",
   "execution_count": null,
   "id": "conscious-convertible",
   "metadata": {},
   "outputs": [],
   "source": [
    "df.loc[103]"
   ]
  },
  {
   "cell_type": "code",
   "execution_count": null,
   "id": "fewer-validity",
   "metadata": {},
   "outputs": [],
   "source": [
    "type(df.loc[103])"
   ]
  },
  {
   "cell_type": "code",
   "execution_count": null,
   "id": "nominated-medication",
   "metadata": {},
   "outputs": [],
   "source": [
    "cities"
   ]
  },
  {
   "cell_type": "code",
   "execution_count": null,
   "id": "convenient-protein",
   "metadata": {},
   "outputs": [],
   "source": [
    "cities[103]"
   ]
  },
  {
   "cell_type": "markdown",
   "id": "angry-straight",
   "metadata": {},
   "source": [
    "## Creating a pandas DataFrame"
   ]
  },
  {
   "cell_type": "code",
   "execution_count": null,
   "id": "pacific-chaos",
   "metadata": {},
   "outputs": [],
   "source": [
    "import numpy as np"
   ]
  },
  {
   "cell_type": "code",
   "execution_count": null,
   "id": "sudden-register",
   "metadata": {},
   "outputs": [],
   "source": [
    "d = {'x': [1,2,3], 'y': np.array([2,4,8]), 'z': 100}"
   ]
  },
  {
   "cell_type": "code",
   "execution_count": null,
   "id": "british-consistency",
   "metadata": {},
   "outputs": [],
   "source": [
    "pd.DataFrame(d, index=[100, 200, 300], columns=['z', 'y', 'x'])"
   ]
  },
  {
   "cell_type": "code",
   "execution_count": null,
   "id": "close-inclusion",
   "metadata": {},
   "outputs": [],
   "source": [
    "lst = [{'x': 1, 'y': 2, 'z': 100},\n",
    "     {'x': 2, 'y': 4, 'z': 100},\n",
    "     {'x': 3, 'y': 8, 'z': 100}]\n",
    "\n",
    "pd.DataFrame(lst, index=['a','b','c'])"
   ]
  },
  {
   "cell_type": "code",
   "execution_count": null,
   "id": "structural-publication",
   "metadata": {},
   "outputs": [],
   "source": [
    "lst2 = [[1, 2, 100],\n",
    "     [2, 4, 100],\n",
    "     [3, 8, 100]]\n",
    "\n",
    "pd.DataFrame(lst2, columns=['x', 'y', 'z'])"
   ]
  },
  {
   "cell_type": "code",
   "execution_count": null,
   "id": "sufficient-complex",
   "metadata": {},
   "outputs": [],
   "source": [
    "arr = np.array([[1, 2, 100],\n",
    "     [2, 4, 100],\n",
    "     [3, 8, 100]])\n",
    "\n",
    "df_ = pd.DataFrame(arr, columns=['x','y','z'], copy=True)\n"
   ]
  },
  {
   "cell_type": "code",
   "execution_count": null,
   "id": "physical-nurse",
   "metadata": {},
   "outputs": [],
   "source": [
    "df_"
   ]
  },
  {
   "cell_type": "code",
   "execution_count": null,
   "id": "metric-creek",
   "metadata": {},
   "outputs": [],
   "source": [
    "arr[1,1] = 33"
   ]
  },
  {
   "cell_type": "code",
   "execution_count": null,
   "id": "mature-toronto",
   "metadata": {},
   "outputs": [],
   "source": [
    "df_"
   ]
  },
  {
   "cell_type": "code",
   "execution_count": null,
   "id": "latter-structure",
   "metadata": {},
   "outputs": [],
   "source": [
    "df"
   ]
  },
  {
   "cell_type": "code",
   "execution_count": null,
   "id": "valuable-milwaukee",
   "metadata": {},
   "outputs": [],
   "source": [
    "df.to_csv(\"job_candidates.csv\")"
   ]
  },
  {
   "cell_type": "code",
   "execution_count": null,
   "id": "funded-program",
   "metadata": {},
   "outputs": [],
   "source": [
    "pd.read_csv(\"job_candidates.csv\", index_col=0)"
   ]
  },
  {
   "cell_type": "code",
   "execution_count": null,
   "id": "smaller-paper",
   "metadata": {},
   "outputs": [],
   "source": [
    "df.index"
   ]
  },
  {
   "cell_type": "code",
   "execution_count": null,
   "id": "standing-mileage",
   "metadata": {},
   "outputs": [],
   "source": [
    "df.index[0]"
   ]
  },
  {
   "cell_type": "code",
   "execution_count": null,
   "id": "blind-climb",
   "metadata": {},
   "outputs": [],
   "source": [
    "df.index[1]"
   ]
  },
  {
   "cell_type": "code",
   "execution_count": null,
   "id": "healthy-certificate",
   "metadata": {},
   "outputs": [],
   "source": [
    "df.columns"
   ]
  },
  {
   "cell_type": "code",
   "execution_count": null,
   "id": "breathing-thompson",
   "metadata": {},
   "outputs": [],
   "source": [
    "df.columns[2]"
   ]
  },
  {
   "cell_type": "code",
   "execution_count": null,
   "id": "equal-fence",
   "metadata": {},
   "outputs": [],
   "source": [
    "df.index[0] = 100"
   ]
  },
  {
   "cell_type": "code",
   "execution_count": null,
   "id": "intellectual-greenhouse",
   "metadata": {},
   "outputs": [],
   "source": [
    "df.index"
   ]
  },
  {
   "cell_type": "code",
   "execution_count": null,
   "id": "driven-bidding",
   "metadata": {},
   "outputs": [],
   "source": [
    "df.index = np.arange(10, 17)"
   ]
  },
  {
   "cell_type": "code",
   "execution_count": null,
   "id": "still-assault",
   "metadata": {},
   "outputs": [],
   "source": [
    "df.index"
   ]
  },
  {
   "cell_type": "code",
   "execution_count": null,
   "id": "floral-territory",
   "metadata": {},
   "outputs": [],
   "source": [
    "df.values"
   ]
  },
  {
   "cell_type": "code",
   "execution_count": null,
   "id": "traditional-writer",
   "metadata": {},
   "outputs": [],
   "source": [
    "df.to_numpy()"
   ]
  },
  {
   "cell_type": "code",
   "execution_count": null,
   "id": "durable-springer",
   "metadata": {},
   "outputs": [],
   "source": [
    "df.dtypes"
   ]
  },
  {
   "cell_type": "code",
   "execution_count": null,
   "id": "respiratory-david",
   "metadata": {},
   "outputs": [],
   "source": [
    "df_ = df.astype(dtype={'age': np.int32, 'py-score': np.float32})"
   ]
  },
  {
   "cell_type": "code",
   "execution_count": null,
   "id": "adjacent-bumper",
   "metadata": {},
   "outputs": [],
   "source": [
    "df_.dtypes"
   ]
  },
  {
   "cell_type": "code",
   "execution_count": null,
   "id": "greater-johns",
   "metadata": {},
   "outputs": [],
   "source": [
    "df.ndim"
   ]
  },
  {
   "cell_type": "code",
   "execution_count": null,
   "id": "academic-consensus",
   "metadata": {},
   "outputs": [],
   "source": [
    "df.size"
   ]
  },
  {
   "cell_type": "code",
   "execution_count": null,
   "id": "economic-breeding",
   "metadata": {},
   "outputs": [],
   "source": [
    "df.shape"
   ]
  },
  {
   "cell_type": "code",
   "execution_count": null,
   "id": "stopped-prime",
   "metadata": {},
   "outputs": [],
   "source": [
    "df_.memory_usage()"
   ]
  },
  {
   "cell_type": "markdown",
   "id": "conservative-timber",
   "metadata": {},
   "source": [
    "## Accessing and Modifying Data"
   ]
  },
  {
   "cell_type": "code",
   "execution_count": null,
   "id": "emotional-worthy",
   "metadata": {},
   "outputs": [],
   "source": [
    "df['name']"
   ]
  },
  {
   "cell_type": "code",
   "execution_count": null,
   "id": "unsigned-croatia",
   "metadata": {},
   "outputs": [],
   "source": [
    "df.name"
   ]
  },
  {
   "cell_type": "code",
   "execution_count": null,
   "id": "freelance-lender",
   "metadata": {},
   "outputs": [],
   "source": [
    "df.age"
   ]
  },
  {
   "cell_type": "code",
   "execution_count": null,
   "id": "classical-spencer",
   "metadata": {},
   "outputs": [],
   "source": [
    "df.loc[0]"
   ]
  },
  {
   "cell_type": "code",
   "execution_count": null,
   "id": "taken-hampshire",
   "metadata": {},
   "outputs": [],
   "source": [
    "df.index"
   ]
  },
  {
   "cell_type": "code",
   "execution_count": null,
   "id": "vanilla-reader",
   "metadata": {},
   "outputs": [],
   "source": [
    "df.loc[11]"
   ]
  },
  {
   "cell_type": "code",
   "execution_count": null,
   "id": "southwest-billion",
   "metadata": {},
   "outputs": [],
   "source": [
    "df.loc[:, ['age','py-score']]"
   ]
  },
  {
   "cell_type": "code",
   "execution_count": null,
   "id": "extreme-boards",
   "metadata": {},
   "outputs": [],
   "source": [
    "df.loc[[x for x in df.index if not x % 2], ['name','city']]"
   ]
  },
  {
   "cell_type": "code",
   "execution_count": null,
   "id": "external-stand",
   "metadata": {},
   "outputs": [],
   "source": [
    "df.iloc[:,[0,2]]"
   ]
  },
  {
   "cell_type": "code",
   "execution_count": null,
   "id": "split-being",
   "metadata": {},
   "outputs": [],
   "source": [
    "df.iloc[[0, 2], :]"
   ]
  },
  {
   "cell_type": "code",
   "execution_count": null,
   "id": "patient-wilson",
   "metadata": {},
   "outputs": [],
   "source": [
    "df.loc[12, 'city']"
   ]
  },
  {
   "cell_type": "code",
   "execution_count": null,
   "id": "extraordinary-performer",
   "metadata": {},
   "outputs": [],
   "source": [
    "df.at[12, 'city']"
   ]
  },
  {
   "cell_type": "code",
   "execution_count": null,
   "id": "entertaining-management",
   "metadata": {},
   "outputs": [],
   "source": [
    "df.iat[2, 1]"
   ]
  },
  {
   "cell_type": "code",
   "execution_count": null,
   "id": "alpine-skating",
   "metadata": {},
   "outputs": [],
   "source": [
    "df"
   ]
  },
  {
   "cell_type": "code",
   "execution_count": null,
   "id": "sustainable-boards",
   "metadata": {},
   "outputs": [],
   "source": [
    "df.loc[:13, 'py-score'] = [40, 50, 60, 70]\n",
    "df.loc[14:, 'py-score'] = 0"
   ]
  },
  {
   "cell_type": "code",
   "execution_count": null,
   "id": "approximate-anger",
   "metadata": {},
   "outputs": [],
   "source": [
    "df"
   ]
  },
  {
   "cell_type": "code",
   "execution_count": null,
   "id": "committed-preparation",
   "metadata": {},
   "outputs": [],
   "source": [
    "df.iloc[:, -1] = np.linspace(20, 50, len(df))"
   ]
  },
  {
   "cell_type": "code",
   "execution_count": null,
   "id": "incorporated-funds",
   "metadata": {},
   "outputs": [],
   "source": [
    "df"
   ]
  },
  {
   "cell_type": "code",
   "execution_count": null,
   "id": "lined-platform",
   "metadata": {},
   "outputs": [],
   "source": [
    "old_row = df.loc[16]"
   ]
  },
  {
   "cell_type": "code",
   "execution_count": null,
   "id": "presidential-craps",
   "metadata": {},
   "outputs": [],
   "source": [
    "df.loc[16] = ['Jack', 'Chicago', 29, 70]\n",
    "df"
   ]
  },
  {
   "cell_type": "code",
   "execution_count": null,
   "id": "compatible-florence",
   "metadata": {},
   "outputs": [],
   "source": [
    "df.loc[16] = old_row"
   ]
  },
  {
   "cell_type": "code",
   "execution_count": null,
   "id": "loving-float",
   "metadata": {},
   "outputs": [],
   "source": [
    "df"
   ]
  },
  {
   "cell_type": "code",
   "execution_count": null,
   "id": "overall-volunteer",
   "metadata": {},
   "outputs": [],
   "source": [
    "df.loc[11, 'city'] = 'Ottawa'"
   ]
  },
  {
   "cell_type": "code",
   "execution_count": null,
   "id": "lesbian-stamp",
   "metadata": {
    "scrolled": true
   },
   "outputs": [],
   "source": [
    "df"
   ]
  },
  {
   "cell_type": "markdown",
   "id": "analyzed-prevention",
   "metadata": {},
   "source": [
    "## Inserting and Deleting Data"
   ]
  },
  {
   "cell_type": "code",
   "execution_count": null,
   "id": "solid-messaging",
   "metadata": {},
   "outputs": [],
   "source": [
    "df"
   ]
  },
  {
   "cell_type": "code",
   "execution_count": null,
   "id": "plastic-italian",
   "metadata": {},
   "outputs": [],
   "source": [
    "john = pd.Series(data=['John', 'Boston', 34, 79], index=df.columns, name=17)"
   ]
  },
  {
   "cell_type": "code",
   "execution_count": null,
   "id": "wooden-forty",
   "metadata": {},
   "outputs": [],
   "source": [
    "df = df.append(john)"
   ]
  },
  {
   "cell_type": "code",
   "execution_count": null,
   "id": "thrown-spyware",
   "metadata": {},
   "outputs": [],
   "source": [
    "df"
   ]
  },
  {
   "cell_type": "code",
   "execution_count": null,
   "id": "mathematical-elite",
   "metadata": {},
   "outputs": [],
   "source": [
    "df.drop(labels=[17], inplace=True)"
   ]
  },
  {
   "cell_type": "code",
   "execution_count": null,
   "id": "configured-andorra",
   "metadata": {},
   "outputs": [],
   "source": [
    "df"
   ]
  },
  {
   "cell_type": "code",
   "execution_count": null,
   "id": "statutory-comparison",
   "metadata": {},
   "outputs": [],
   "source": [
    "df['js-score'] = [71.0, 95.0, 88.0, 79.0, 91.0, 91.0, 80.0]\n",
    "df"
   ]
  },
  {
   "cell_type": "code",
   "execution_count": null,
   "id": "matched-dover",
   "metadata": {},
   "outputs": [],
   "source": [
    "df['total-score'] = 0.0\n",
    "df"
   ]
  },
  {
   "cell_type": "code",
   "execution_count": null,
   "id": "corresponding-adolescent",
   "metadata": {},
   "outputs": [],
   "source": [
    "df.insert(loc=4, column='django-score', value=[71.0, 95.0, 88.0, 79.0, 91.0, 91.0, 80.0])\n",
    "df"
   ]
  },
  {
   "cell_type": "code",
   "execution_count": null,
   "id": "cutting-queen",
   "metadata": {},
   "outputs": [],
   "source": [
    "del df['total-score']\n",
    "df"
   ]
  },
  {
   "cell_type": "code",
   "execution_count": null,
   "id": "coupled-yugoslavia",
   "metadata": {},
   "outputs": [],
   "source": [
    "df['total-score'] = 0.0\n",
    "df"
   ]
  },
  {
   "cell_type": "code",
   "execution_count": null,
   "id": "fitting-relation",
   "metadata": {},
   "outputs": [],
   "source": [
    "total_score = df.pop('total-score')\n",
    "total_score"
   ]
  },
  {
   "cell_type": "code",
   "execution_count": null,
   "id": "black-forestry",
   "metadata": {},
   "outputs": [],
   "source": [
    "df"
   ]
  },
  {
   "cell_type": "code",
   "execution_count": null,
   "id": "knowing-islam",
   "metadata": {},
   "outputs": [],
   "source": [
    "df = df.drop(labels=['age'], axis=1)\n",
    "df"
   ]
  },
  {
   "cell_type": "markdown",
   "id": "documentary-catholic",
   "metadata": {},
   "source": [
    "## Applying Arithmetic Operations"
   ]
  },
  {
   "cell_type": "code",
   "execution_count": null,
   "id": "coated-supervision",
   "metadata": {},
   "outputs": [],
   "source": [
    "df"
   ]
  },
  {
   "cell_type": "code",
   "execution_count": null,
   "id": "composite-twelve",
   "metadata": {},
   "outputs": [],
   "source": [
    "df['total'] = 0.3 * df['js-score'] + 0.4 * df['py-score'] + 0.3 * df['django-score']"
   ]
  },
  {
   "cell_type": "code",
   "execution_count": null,
   "id": "inner-talent",
   "metadata": {},
   "outputs": [],
   "source": [
    "df"
   ]
  },
  {
   "cell_type": "code",
   "execution_count": null,
   "id": "premium-texture",
   "metadata": {},
   "outputs": [],
   "source": [
    "wgts = pd.Series(data=[0.4,0.3,0.3],index=['py-score','django-score','js-score'])\n",
    "wgts"
   ]
  },
  {
   "cell_type": "code",
   "execution_count": null,
   "id": "controlling-heritage",
   "metadata": {},
   "outputs": [],
   "source": [
    "import numpy as np"
   ]
  },
  {
   "cell_type": "code",
   "execution_count": null,
   "id": "indoor-general",
   "metadata": {},
   "outputs": [],
   "source": [
    "df['total'] = np.sum(df[wgts.index] * wgts, axis=1)"
   ]
  },
  {
   "cell_type": "code",
   "execution_count": null,
   "id": "amazing-strand",
   "metadata": {},
   "outputs": [],
   "source": [
    "df"
   ]
  },
  {
   "cell_type": "markdown",
   "id": "practical-stranger",
   "metadata": {},
   "source": [
    "## Sorting a pandas DataFrame"
   ]
  },
  {
   "cell_type": "code",
   "execution_count": null,
   "id": "discrete-compiler",
   "metadata": {},
   "outputs": [],
   "source": [
    "df"
   ]
  },
  {
   "cell_type": "code",
   "execution_count": null,
   "id": "competitive-daily",
   "metadata": {},
   "outputs": [],
   "source": [
    "df.sort_values(by=['js-score','py-score'], ascending=[False, False], inplace=True)"
   ]
  },
  {
   "cell_type": "code",
   "execution_count": null,
   "id": "handed-consolidation",
   "metadata": {},
   "outputs": [],
   "source": [
    "df"
   ]
  },
  {
   "cell_type": "markdown",
   "id": "narrative-viewer",
   "metadata": {},
   "source": [
    "## Filtering Data"
   ]
  },
  {
   "cell_type": "code",
   "execution_count": null,
   "id": "pressing-jonathan",
   "metadata": {},
   "outputs": [],
   "source": [
    "df"
   ]
  },
  {
   "cell_type": "code",
   "execution_count": null,
   "id": "cardiac-japan",
   "metadata": {},
   "outputs": [],
   "source": [
    "filter_ = (df['py-score'] >= 40.0) | (df['js-score'] >= 90)"
   ]
  },
  {
   "cell_type": "code",
   "execution_count": null,
   "id": "shared-forty",
   "metadata": {},
   "outputs": [],
   "source": [
    "df[filter_]"
   ]
  },
  {
   "cell_type": "code",
   "execution_count": null,
   "id": "every-giving",
   "metadata": {},
   "outputs": [],
   "source": [
    "df['js-score'].where(cond=df['js-score'] >= 80, other=0.0)"
   ]
  },
  {
   "cell_type": "code",
   "execution_count": null,
   "id": "small-constraint",
   "metadata": {},
   "outputs": [],
   "source": [
    "df.filter(regex=\"score\")"
   ]
  },
  {
   "cell_type": "markdown",
   "id": "psychological-infrared",
   "metadata": {},
   "source": [
    "## Determining Data Statistics"
   ]
  },
  {
   "cell_type": "code",
   "execution_count": null,
   "id": "bound-throat",
   "metadata": {},
   "outputs": [],
   "source": [
    "df"
   ]
  },
  {
   "cell_type": "code",
   "execution_count": null,
   "id": "usual-operation",
   "metadata": {},
   "outputs": [],
   "source": [
    "df.describe()"
   ]
  },
  {
   "cell_type": "code",
   "execution_count": null,
   "id": "continent-romance",
   "metadata": {},
   "outputs": [],
   "source": [
    "df['py-score'].mean()"
   ]
  },
  {
   "cell_type": "code",
   "execution_count": null,
   "id": "reverse-absorption",
   "metadata": {},
   "outputs": [],
   "source": [
    "df['py-score'].std()"
   ]
  },
  {
   "cell_type": "code",
   "execution_count": null,
   "id": "comprehensive-blackjack",
   "metadata": {},
   "outputs": [],
   "source": [
    "df.mean()"
   ]
  },
  {
   "cell_type": "markdown",
   "id": "beneficial-column",
   "metadata": {},
   "source": [
    "## Handling Missing Data"
   ]
  },
  {
   "cell_type": "code",
   "execution_count": null,
   "id": "naked-incentive",
   "metadata": {},
   "outputs": [],
   "source": [
    "df_ = pd.DataFrame({'x': [1, 2, np.nan, 4]})\n",
    "df_"
   ]
  },
  {
   "cell_type": "code",
   "execution_count": null,
   "id": "reliable-ethnic",
   "metadata": {},
   "outputs": [],
   "source": [
    "df_.mean()"
   ]
  },
  {
   "cell_type": "code",
   "execution_count": null,
   "id": "opponent-symposium",
   "metadata": {},
   "outputs": [],
   "source": [
    "7/3"
   ]
  },
  {
   "cell_type": "code",
   "execution_count": null,
   "id": "romantic-petroleum",
   "metadata": {},
   "outputs": [],
   "source": [
    "df_.mean(skipna=False)"
   ]
  },
  {
   "cell_type": "code",
   "execution_count": null,
   "id": "nutritional-story",
   "metadata": {},
   "outputs": [],
   "source": [
    "1 + 2 + np.nan"
   ]
  },
  {
   "cell_type": "code",
   "execution_count": null,
   "id": "ahead-problem",
   "metadata": {},
   "outputs": [],
   "source": [
    "df_.fillna(value=0)"
   ]
  },
  {
   "cell_type": "code",
   "execution_count": null,
   "id": "moral-genius",
   "metadata": {},
   "outputs": [],
   "source": [
    "df_.fillna(method='bfill')"
   ]
  },
  {
   "cell_type": "code",
   "execution_count": null,
   "id": "dense-venture",
   "metadata": {},
   "outputs": [],
   "source": [
    "df_"
   ]
  },
  {
   "cell_type": "code",
   "execution_count": null,
   "id": "abstract-moderator",
   "metadata": {},
   "outputs": [],
   "source": [
    "df_.interpolate()"
   ]
  },
  {
   "cell_type": "code",
   "execution_count": null,
   "id": "fabulous-throat",
   "metadata": {},
   "outputs": [],
   "source": [
    "df_.dropna(axis=0, inplace=True)"
   ]
  },
  {
   "cell_type": "code",
   "execution_count": null,
   "id": "settled-madonna",
   "metadata": {},
   "outputs": [],
   "source": [
    "df_"
   ]
  },
  {
   "cell_type": "markdown",
   "id": "uniform-burning",
   "metadata": {},
   "source": [
    "## Iterating Over a Pandas DataFrame"
   ]
  },
  {
   "cell_type": "code",
   "execution_count": null,
   "id": "tutorial-strain",
   "metadata": {},
   "outputs": [],
   "source": [
    "df"
   ]
  },
  {
   "cell_type": "code",
   "execution_count": null,
   "id": "equal-telephone",
   "metadata": {},
   "outputs": [],
   "source": [
    "for col_label, col in df.iteritems():\n",
    "    print(col_label, col, sep='\\n', end='\\n\\n')"
   ]
  },
  {
   "cell_type": "code",
   "execution_count": null,
   "id": "aware-discrimination",
   "metadata": {},
   "outputs": [],
   "source": [
    "for row in df.itertuples(index=False, name=\"JobCandidate\"):\n",
    "    #print(f\"Name: {row.name}, City: {row.city}, Total: {row.total}\")\n",
    "    print(row)"
   ]
  },
  {
   "cell_type": "markdown",
   "id": "fluid-testament",
   "metadata": {},
   "source": [
    "## Working With Time Series"
   ]
  },
  {
   "cell_type": "code",
   "execution_count": null,
   "id": "designing-astrology",
   "metadata": {},
   "outputs": [],
   "source": [
    "temp_c = [8.0,  7.1,  6.8,  6.4,  6.0,  5.4,  4.8,  5.0,\n",
    "           9.1, 12.8, 15.3, 19.1, 21.2, 22.1, 22.4, 23.1,\n",
    "          21.0, 17.9, 15.5, 14.4, 11.9, 11.0, 10.2,  9.1]"
   ]
  },
  {
   "cell_type": "code",
   "execution_count": null,
   "id": "enabling-variance",
   "metadata": {},
   "outputs": [],
   "source": [
    "dt = pd.date_range(start='2019-10-27 00:00:00', periods=24, freq='H')"
   ]
  },
  {
   "cell_type": "code",
   "execution_count": null,
   "id": "fifteen-creature",
   "metadata": {},
   "outputs": [],
   "source": [
    "type(dt)"
   ]
  },
  {
   "cell_type": "code",
   "execution_count": null,
   "id": "wooden-insulation",
   "metadata": {},
   "outputs": [],
   "source": [
    "temp = pd.DataFrame(data={'temp_c': temp_c}, index=dt)"
   ]
  },
  {
   "cell_type": "code",
   "execution_count": null,
   "id": "hollywood-thanksgiving",
   "metadata": {},
   "outputs": [],
   "source": [
    "temp"
   ]
  },
  {
   "cell_type": "code",
   "execution_count": null,
   "id": "italian-filling",
   "metadata": {},
   "outputs": [],
   "source": [
    "type(temp.index)"
   ]
  },
  {
   "cell_type": "code",
   "execution_count": null,
   "id": "operating-value",
   "metadata": {},
   "outputs": [],
   "source": [
    "temp['2019-10-27 05':'2019-10-27 15']"
   ]
  },
  {
   "cell_type": "code",
   "execution_count": null,
   "id": "remarkable-analysis",
   "metadata": {},
   "outputs": [],
   "source": [
    "temp.resample(rule='6h').min()"
   ]
  },
  {
   "cell_type": "code",
   "execution_count": null,
   "id": "several-pressing",
   "metadata": {},
   "outputs": [],
   "source": [
    "temp"
   ]
  },
  {
   "cell_type": "code",
   "execution_count": null,
   "id": "apparent-arizona",
   "metadata": {},
   "outputs": [],
   "source": [
    "temp.rolling(window=3, center=True).mean()"
   ]
  },
  {
   "cell_type": "markdown",
   "id": "fatal-rachel",
   "metadata": {},
   "source": [
    "## Plotting With pandas DataFrames"
   ]
  },
  {
   "cell_type": "code",
   "execution_count": 1,
   "id": "large-durham",
   "metadata": {},
   "outputs": [
    {
     "ename": "NameError",
     "evalue": "name 'temp' is not defined",
     "output_type": "error",
     "traceback": [
      "\u001b[0;31m---------------------------------------------------------------------------\u001b[0m",
      "\u001b[0;31mNameError\u001b[0m                                 Traceback (most recent call last)",
      "Input \u001b[0;32mIn [1]\u001b[0m, in \u001b[0;36m<cell line: 1>\u001b[0;34m()\u001b[0m\n\u001b[0;32m----> 1\u001b[0m \u001b[43mtemp\u001b[49m\u001b[38;5;241m.\u001b[39mplot\u001b[38;5;241m.\u001b[39mline(color\u001b[38;5;241m=\u001b[39m\u001b[38;5;124m'\u001b[39m\u001b[38;5;124mg\u001b[39m\u001b[38;5;124m'\u001b[39m, style\u001b[38;5;241m=\u001b[39m\u001b[38;5;124m'\u001b[39m\u001b[38;5;124m.-\u001b[39m\u001b[38;5;124m'\u001b[39m, mfc\u001b[38;5;241m=\u001b[39m\u001b[38;5;124m'\u001b[39m\u001b[38;5;124mk\u001b[39m\u001b[38;5;124m'\u001b[39m, ms\u001b[38;5;241m=\u001b[39m\u001b[38;5;241m10\u001b[39m)\u001b[38;5;241m.\u001b[39mget_figure()\u001b[38;5;241m.\u001b[39msavefig(\u001b[38;5;124m'\u001b[39m\u001b[38;5;124mtemperatures.png\u001b[39m\u001b[38;5;124m'\u001b[39m)\n",
      "\u001b[0;31mNameError\u001b[0m: name 'temp' is not defined"
     ]
    }
   ],
   "source": [
    "temp.plot.line(color='g', style='.-', mfc='k', ms=10).get_figure().savefig('temperatures.png')"
   ]
  },
  {
   "cell_type": "code",
   "execution_count": null,
   "id": "broadband-reputation",
   "metadata": {},
   "outputs": [],
   "source": [
    "df"
   ]
  },
  {
   "cell_type": "code",
   "execution_count": null,
   "id": "reverse-northwest",
   "metadata": {},
   "outputs": [],
   "source": [
    "df['py-score'].plot.hist(bins=3, alpha=0.8)"
   ]
  },
  {
   "cell_type": "code",
   "execution_count": null,
   "id": "found-tuner",
   "metadata": {},
   "outputs": [],
   "source": [
    "df[['js-score','total']].plot.hist(bins=3, alpha=0.5)"
   ]
  },
  {
   "cell_type": "code",
   "execution_count": null,
   "id": "executed-calcium",
   "metadata": {},
   "outputs": [],
   "source": []
  }
 ],
 "metadata": {
  "kernelspec": {
   "display_name": "Python 3 (ipykernel)",
   "language": "python",
   "name": "python3"
  },
  "language_info": {
   "codemirror_mode": {
    "name": "ipython",
    "version": 3
   },
   "file_extension": ".py",
   "mimetype": "text/x-python",
   "name": "python",
   "nbconvert_exporter": "python",
   "pygments_lexer": "ipython3",
   "version": "3.9.10"
  }
 },
 "nbformat": 4,
 "nbformat_minor": 5
}
